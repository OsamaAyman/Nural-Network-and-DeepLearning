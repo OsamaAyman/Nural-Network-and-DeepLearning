{
 "cells": [
  {
   "cell_type": "code",
   "execution_count": null,
   "metadata": {
    "id": "a8UWpse_4cfV"
   },
   "outputs": [],
   "source": [
    "import tensorflow as tf\n",
    "from tensorflow import keras"
   ]
  },
  {
   "cell_type": "code",
   "execution_count": null,
   "metadata": {
    "id": "GpltX9Lz4stQ"
   },
   "outputs": [],
   "source": [
    "class myCallbacks(keras.callbacks.Callback):\n",
    "  def on_epoch_end(self, epoch, logs={}):\n",
    "    if logs.get('accuracy') >= 0.97:\n",
    "      print(\"\\nReached 97% accuracy so cancelling training!\")\n",
    "      self.model.stop_training = True\n",
    "      \n",
    "\n",
    "callbacks = myCallbacks()"
   ]
  },
  {
   "cell_type": "code",
   "execution_count": null,
   "metadata": {
    "colab": {
     "base_uri": "https://localhost:8080/"
    },
    "id": "D8Y5HFwW4xd1",
    "outputId": "2cd1e410-99a9-4eea-be7c-2ecc2ab02b5b"
   },
   "outputs": [
    {
     "name": "stdout",
     "output_type": "stream",
     "text": [
      "Downloading data from https://storage.googleapis.com/tensorflow/tf-keras-datasets/train-labels-idx1-ubyte.gz\n",
      "32768/29515 [=================================] - 0s 0us/step\n",
      "40960/29515 [=========================================] - 0s 0us/step\n",
      "Downloading data from https://storage.googleapis.com/tensorflow/tf-keras-datasets/train-images-idx3-ubyte.gz\n",
      "26427392/26421880 [==============================] - 0s 0us/step\n",
      "26435584/26421880 [==============================] - 0s 0us/step\n",
      "Downloading data from https://storage.googleapis.com/tensorflow/tf-keras-datasets/t10k-labels-idx1-ubyte.gz\n",
      "16384/5148 [===============================================================================================] - 0s 0us/step\n",
      "Downloading data from https://storage.googleapis.com/tensorflow/tf-keras-datasets/t10k-images-idx3-ubyte.gz\n",
      "4423680/4422102 [==============================] - 0s 0us/step\n",
      "4431872/4422102 [==============================] - 0s 0us/step\n"
     ]
    }
   ],
   "source": [
    "mnist = keras.datasets.fashion_mnist\n",
    "(training_images, training_labels), (test_images, test_labels) = mnist.load_data()"
   ]
  },
  {
   "cell_type": "code",
   "execution_count": null,
   "metadata": {
    "id": "oRnGPlTe456_"
   },
   "outputs": [],
   "source": [
    "training_images = training_images.reshape(60000, 28, 28, 1)\n",
    "test_images = test_images.reshape(10000, 28, 28, 1)\n",
    "training_images, test_images = training_images / 255.0, test_images / 255.0"
   ]
  },
  {
   "cell_type": "code",
   "execution_count": null,
   "metadata": {
    "id": "ziziXAPy5ESz"
   },
   "outputs": [],
   "source": [
    "model = tf.keras.models.Sequential([\n",
    "    tf.keras.layers.Conv2D(32, (3, 3), activation='relu', input_shape=(28, 28,1)),\n",
    "    tf.keras.layers.MaxPooling2D(2, 2),\n",
    "    tf.keras.layers.Flatten(),\n",
    "    tf.keras.layers.Dense(128, activation='relu'),\n",
    "    tf.keras.layers.Dense(10, activation='softmax')\n",
    "])"
   ]
  },
  {
   "cell_type": "code",
   "execution_count": null,
   "metadata": {
    "id": "utl4F8_G5TdE"
   },
   "outputs": [],
   "source": [
    "model.compile(optimizer='adam', loss='sparse_categorical_crossentropy', metrics=['accuracy'])"
   ]
  },
  {
   "cell_type": "code",
   "execution_count": null,
   "metadata": {
    "colab": {
     "base_uri": "https://localhost:8080/"
    },
    "id": "gnceHsfV5W_W",
    "outputId": "1aad1e12-db8f-49ea-a3b4-2e643d2317e9"
   },
   "outputs": [
    {
     "name": "stdout",
     "output_type": "stream",
     "text": [
      "Model: \"sequential\"\n",
      "_________________________________________________________________\n",
      " Layer (type)                Output Shape              Param #   \n",
      "=================================================================\n",
      " conv2d (Conv2D)             (None, 26, 26, 32)        320       \n",
      "                                                                 \n",
      " max_pooling2d (MaxPooling2D  (None, 13, 13, 32)       0         \n",
      " )                                                               \n",
      "                                                                 \n",
      " flatten (Flatten)           (None, 5408)              0         \n",
      "                                                                 \n",
      " dense (Dense)               (None, 128)               692352    \n",
      "                                                                 \n",
      " dense_1 (Dense)             (None, 10)                1290      \n",
      "                                                                 \n",
      "=================================================================\n",
      "Total params: 693,962\n",
      "Trainable params: 693,962\n",
      "Non-trainable params: 0\n",
      "_________________________________________________________________\n"
     ]
    }
   ],
   "source": [
    "model.summary()"
   ]
  },
  {
   "cell_type": "code",
   "execution_count": null,
   "metadata": {
    "colab": {
     "base_uri": "https://localhost:8080/"
    },
    "id": "GTi_w7HF5ZOk",
    "outputId": "871d6d8e-186f-4273-bdbe-96d66aebd1bb"
   },
   "outputs": [
    {
     "name": "stdout",
     "output_type": "stream",
     "text": [
      "Epoch 1/20\n",
      "1719/1719 [==============================] - 36s 21ms/step - loss: 0.4022 - accuracy: 0.8587 - val_loss: 0.3179 - val_accuracy: 0.8848\n",
      "Epoch 2/20\n",
      "1719/1719 [==============================] - 35s 20ms/step - loss: 0.2724 - accuracy: 0.9026 - val_loss: 0.2638 - val_accuracy: 0.9078\n",
      "Epoch 3/20\n",
      "1719/1719 [==============================] - 35s 20ms/step - loss: 0.2251 - accuracy: 0.9178 - val_loss: 0.2527 - val_accuracy: 0.9086\n",
      "Epoch 4/20\n",
      "1719/1719 [==============================] - 35s 20ms/step - loss: 0.1939 - accuracy: 0.9284 - val_loss: 0.2513 - val_accuracy: 0.9112\n",
      "Epoch 5/20\n",
      "1719/1719 [==============================] - 35s 20ms/step - loss: 0.1660 - accuracy: 0.9383 - val_loss: 0.2498 - val_accuracy: 0.9172\n",
      "Epoch 6/20\n",
      "1719/1719 [==============================] - 34s 20ms/step - loss: 0.1427 - accuracy: 0.9473 - val_loss: 0.2399 - val_accuracy: 0.9188\n",
      "Epoch 7/20\n",
      "1719/1719 [==============================] - 34s 20ms/step - loss: 0.1230 - accuracy: 0.9545 - val_loss: 0.2725 - val_accuracy: 0.9138\n",
      "Epoch 8/20\n",
      "1719/1719 [==============================] - 34s 20ms/step - loss: 0.1042 - accuracy: 0.9615 - val_loss: 0.2741 - val_accuracy: 0.9148\n",
      "Epoch 9/20\n",
      "1719/1719 [==============================] - 34s 20ms/step - loss: 0.0870 - accuracy: 0.9678 - val_loss: 0.2868 - val_accuracy: 0.9158\n",
      "Epoch 10/20\n",
      "1719/1719 [==============================] - ETA: 0s - loss: 0.0756 - accuracy: 0.9725\n",
      "Reached 97% accuracy so cancelling training!\n",
      "1719/1719 [==============================] - 34s 20ms/step - loss: 0.0756 - accuracy: 0.9725 - val_loss: 0.2866 - val_accuracy: 0.9204\n"
     ]
    }
   ],
   "source": [
    "history = model.fit(training_images, training_labels, validation_split=5/60, epochs=20, callbacks=[callbacks])"
   ]
  },
  {
   "cell_type": "code",
   "execution_count": null,
   "metadata": {
    "colab": {
     "base_uri": "https://localhost:8080/",
     "height": 320
    },
    "id": "zEg4ez4q7B6L",
    "outputId": "ac6d666a-f191-4282-c30d-b462a158a1f5"
   },
   "outputs": [
    {
     "data": {
      "image/png": "[encoded data removed]",
      "text/plain": [
       "<Figure size 720x360 with 1 Axes>"
      ]
     },
     "metadata": {
      "needs_background": "light"
     },
     "output_type": "display_data"
    }
   ],
   "source": [
    "import pandas as pd\n",
    "import matplotlib.pyplot as plt\n",
    "\n",
    "learning_data = pd.DataFrame(history.history)\n",
    "learning_data.plot(figsize=(10,5))\n",
    "plt.grid(True)\n",
    "plt.show()"
   ]
  },
  {
   "cell_type": "code",
   "execution_count": null,
   "metadata": {
    "colab": {
     "base_uri": "https://localhost:8080/"
    },
    "id": "CI02B3nr5dp7",
    "outputId": "7faf5eb6-84d1-4eb6-bf6d-90537b874f72"
   },
   "outputs": [
    {
     "name": "stdout",
     "output_type": "stream",
     "text": [
      "313/313 [==============================] - 2s 7ms/step - loss: 0.3135 - accuracy: 0.9141\n"
     ]
    },
    {
     "data": {
      "text/plain": [
       "[0.3134935796260834, 0.9140999913215637]"
      ]
     },
     "execution_count": 11,
     "metadata": {},
     "output_type": "execute_result"
    }
   ],
   "source": [
    "model.evaluate(test_images, test_labels)"
   ]
  },
  {
   "cell_type": "code",
   "execution_count": null,
   "metadata": {
    "id": "d5IEfyB06inz"
   },
   "outputs": [],
   "source": []
  }
 ],
 "metadata": {
  "colab": {
   "name": "Day3_notebook.ipynb",
   "provenance": []
  },
  "kernelspec": {
   "display_name": "Python 3",
   "language": "python",
   "name": "python3"
  },
  "language_info": {
   "codemirror_mode": {
    "name": "ipython",
    "version": 3
   },
   "file_extension": ".py",
   "mimetype": "text/x-python",
   "name": "python",
   "nbconvert_exporter": "python",
   "pygments_lexer": "ipython3",
   "version": "3.8.7"
  }
 },
 "nbformat": 4,
 "nbformat_minor": 1
}
