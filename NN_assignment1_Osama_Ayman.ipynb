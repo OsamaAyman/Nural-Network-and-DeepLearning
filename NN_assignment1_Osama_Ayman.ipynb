{
 "cells": [
  {
   "cell_type": "code",
   "execution_count": 1,
   "metadata": {
    "id": "sE8LJw0lhha3"
   },
   "outputs": [],
   "source": [
    "import numpy as np\n",
    "import pandas as pd\n",
    "import tensorflow as tf\n",
    "from tensorflow import keras\n",
    "from sklearn.model_selection import train_test_split\n",
    "from tensorflow.keras import layers\n",
    "import tensorflow_addons as tfa\n",
    "from sklearn.preprocessing import StandardScaler"
   ]
  },
  {
   "cell_type": "markdown",
   "metadata": {
    "id": "qYJpwLE-9fZR"
   },
   "source": [
    "### Read data and preprocess"
   ]
  },
  {
   "cell_type": "code",
   "execution_count": 5,
   "metadata": {
    "colab": {
     "base_uri": "https://localhost:8080/",
     "height": 244
    },
    "id": "3G8cN-ndm42b",
    "outputId": "54866a75-0593-4010-c458-0c2dd419e7ea"
   },
   "outputs": [
    {
     "name": "stdout",
     "output_type": "stream",
     "text": [
      "(10000, 14)\n"
     ]
    },
    {
     "data": {
      "text/html": [
       "<div>\n",
       "<style scoped>\n",
       "    .dataframe tbody tr th:only-of-type {\n",
       "        vertical-align: middle;\n",
       "    }\n",
       "\n",
       "    .dataframe tbody tr th {\n",
       "        vertical-align: top;\n",
       "    }\n",
       "\n",
       "    .dataframe thead th {\n",
       "        text-align: right;\n",
       "    }\n",
       "</style>\n",
       "<table border=\"1\" class=\"dataframe\">\n",
       "  <thead>\n",
       "    <tr style=\"text-align: right;\">\n",
       "      <th></th>\n",
       "      <th>RowNumber</th>\n",
       "      <th>CustomerId</th>\n",
       "      <th>Surname</th>\n",
       "      <th>CreditScore</th>\n",
       "      <th>Geography</th>\n",
       "      <th>Gender</th>\n",
       "      <th>Age</th>\n",
       "      <th>Tenure</th>\n",
       "      <th>Balance</th>\n",
       "      <th>NumOfProducts</th>\n",
       "      <th>HasCrCard</th>\n",
       "      <th>IsActiveMember</th>\n",
       "      <th>EstimatedSalary</th>\n",
       "      <th>Exited</th>\n",
       "    </tr>\n",
       "  </thead>\n",
       "  <tbody>\n",
       "    <tr>\n",
       "      <th>0</th>\n",
       "      <td>1</td>\n",
       "      <td>15634602</td>\n",
       "      <td>Hargrave</td>\n",
       "      <td>619</td>\n",
       "      <td>France</td>\n",
       "      <td>Female</td>\n",
       "      <td>42</td>\n",
       "      <td>2</td>\n",
       "      <td>0.00</td>\n",
       "      <td>1</td>\n",
       "      <td>1</td>\n",
       "      <td>1</td>\n",
       "      <td>101348.88</td>\n",
       "      <td>1</td>\n",
       "    </tr>\n",
       "    <tr>\n",
       "      <th>1</th>\n",
       "      <td>2</td>\n",
       "      <td>15647311</td>\n",
       "      <td>Hill</td>\n",
       "      <td>608</td>\n",
       "      <td>Spain</td>\n",
       "      <td>Female</td>\n",
       "      <td>41</td>\n",
       "      <td>1</td>\n",
       "      <td>83807.86</td>\n",
       "      <td>1</td>\n",
       "      <td>0</td>\n",
       "      <td>1</td>\n",
       "      <td>112542.58</td>\n",
       "      <td>0</td>\n",
       "    </tr>\n",
       "    <tr>\n",
       "      <th>2</th>\n",
       "      <td>3</td>\n",
       "      <td>15619304</td>\n",
       "      <td>Onio</td>\n",
       "      <td>502</td>\n",
       "      <td>France</td>\n",
       "      <td>Female</td>\n",
       "      <td>42</td>\n",
       "      <td>8</td>\n",
       "      <td>159660.80</td>\n",
       "      <td>3</td>\n",
       "      <td>1</td>\n",
       "      <td>0</td>\n",
       "      <td>113931.57</td>\n",
       "      <td>1</td>\n",
       "    </tr>\n",
       "    <tr>\n",
       "      <th>3</th>\n",
       "      <td>4</td>\n",
       "      <td>15701354</td>\n",
       "      <td>Boni</td>\n",
       "      <td>699</td>\n",
       "      <td>France</td>\n",
       "      <td>Female</td>\n",
       "      <td>39</td>\n",
       "      <td>1</td>\n",
       "      <td>0.00</td>\n",
       "      <td>2</td>\n",
       "      <td>0</td>\n",
       "      <td>0</td>\n",
       "      <td>93826.63</td>\n",
       "      <td>0</td>\n",
       "    </tr>\n",
       "    <tr>\n",
       "      <th>4</th>\n",
       "      <td>5</td>\n",
       "      <td>15737888</td>\n",
       "      <td>Mitchell</td>\n",
       "      <td>850</td>\n",
       "      <td>Spain</td>\n",
       "      <td>Female</td>\n",
       "      <td>43</td>\n",
       "      <td>2</td>\n",
       "      <td>125510.82</td>\n",
       "      <td>1</td>\n",
       "      <td>1</td>\n",
       "      <td>1</td>\n",
       "      <td>79084.10</td>\n",
       "      <td>0</td>\n",
       "    </tr>\n",
       "  </tbody>\n",
       "</table>\n",
       "</div>"
      ],
      "text/plain": [
       "   RowNumber  CustomerId   Surname  ...  IsActiveMember EstimatedSalary Exited\n",
       "0          1    15634602  Hargrave  ...               1       101348.88      1\n",
       "1          2    15647311      Hill  ...               1       112542.58      0\n",
       "2          3    15619304      Onio  ...               0       113931.57      1\n",
       "3          4    15701354      Boni  ...               0        93826.63      0\n",
       "4          5    15737888  Mitchell  ...               1        79084.10      0\n",
       "\n",
       "[5 rows x 14 columns]"
      ]
     },
     "execution_count": 5,
     "metadata": {},
     "output_type": "execute_result"
    }
   ],
   "source": [
    "df=pd.read_csv('churn_modeling.csv')\n",
    "print(df.shape)\n",
    "df.head()"
   ]
  },
  {
   "cell_type": "code",
   "execution_count": 6,
   "metadata": {
    "colab": {
     "base_uri": "https://localhost:8080/"
    },
    "id": "5F4KCmjCs8WX",
    "outputId": "0bd6cc33-d370-4d04-c991-4143eeb1acfa"
   },
   "outputs": [
    {
     "name": "stdout",
     "output_type": "stream",
     "text": [
      "<class 'pandas.core.frame.DataFrame'>\n",
      "RangeIndex: 10000 entries, 0 to 9999\n",
      "Data columns (total 14 columns):\n",
      " #   Column           Non-Null Count  Dtype  \n",
      "---  ------           --------------  -----  \n",
      " 0   RowNumber        10000 non-null  int64  \n",
      " 1   CustomerId       10000 non-null  int64  \n",
      " 2   Surname          10000 non-null  object \n",
      " 3   CreditScore      10000 non-null  int64  \n",
      " 4   Geography        10000 non-null  object \n",
      " 5   Gender           10000 non-null  object \n",
      " 6   Age              10000 non-null  int64  \n",
      " 7   Tenure           10000 non-null  int64  \n",
      " 8   Balance          10000 non-null  float64\n",
      " 9   NumOfProducts    10000 non-null  int64  \n",
      " 10  HasCrCard        10000 non-null  int64  \n",
      " 11  IsActiveMember   10000 non-null  int64  \n",
      " 12  EstimatedSalary  10000 non-null  float64\n",
      " 13  Exited           10000 non-null  int64  \n",
      "dtypes: float64(2), int64(9), object(3)\n",
      "memory usage: 1.1+ MB\n"
     ]
    }
   ],
   "source": [
    "df.info()"
   ]
  },
  {
   "cell_type": "code",
   "execution_count": 7,
   "metadata": {
    "colab": {
     "base_uri": "https://localhost:8080/",
     "height": 143
    },
    "id": "a559jmba913_",
    "outputId": "1361cd0f-948e-4e8b-e980-22d5c8bedc19"
   },
   "outputs": [
    {
     "data": {
      "text/html": [
       "<div>\n",
       "<style scoped>\n",
       "    .dataframe tbody tr th:only-of-type {\n",
       "        vertical-align: middle;\n",
       "    }\n",
       "\n",
       "    .dataframe tbody tr th {\n",
       "        vertical-align: top;\n",
       "    }\n",
       "\n",
       "    .dataframe thead th {\n",
       "        text-align: right;\n",
       "    }\n",
       "</style>\n",
       "<table border=\"1\" class=\"dataframe\">\n",
       "  <thead>\n",
       "    <tr style=\"text-align: right;\">\n",
       "      <th></th>\n",
       "      <th>CustomerId</th>\n",
       "    </tr>\n",
       "    <tr>\n",
       "      <th>Exited</th>\n",
       "      <th></th>\n",
       "    </tr>\n",
       "  </thead>\n",
       "  <tbody>\n",
       "    <tr>\n",
       "      <th>0</th>\n",
       "      <td>7963</td>\n",
       "    </tr>\n",
       "    <tr>\n",
       "      <th>1</th>\n",
       "      <td>2037</td>\n",
       "    </tr>\n",
       "  </tbody>\n",
       "</table>\n",
       "</div>"
      ],
      "text/plain": [
       "        CustomerId\n",
       "Exited            \n",
       "0             7963\n",
       "1             2037"
      ]
     },
     "execution_count": 7,
     "metadata": {},
     "output_type": "execute_result"
    }
   ],
   "source": [
    "df[['Exited','CustomerId']].groupby('Exited').count()"
   ]
  },
  {
   "cell_type": "code",
   "execution_count": 8,
   "metadata": {
    "colab": {
     "base_uri": "https://localhost:8080/"
    },
    "id": "_K5vdfU55qSE",
    "outputId": "557fdc8e-5af5-4e5b-aa4b-cfd41554054c"
   },
   "outputs": [
    {
     "name": "stdout",
     "output_type": "stream",
     "text": [
      "Total: 10000\n",
      "    Positive: 2037 (20.37% of total)\n",
      "\n"
     ]
    }
   ],
   "source": [
    "neg, pos = np.bincount(df['Exited'])\n",
    "total = neg + pos\n",
    "print('Total: {}\\n    Positive: {} ({:.2f}% of total)\\n'.format(\n",
    "    total, pos, 100 * pos / total))"
   ]
  },
  {
   "cell_type": "code",
   "execution_count": 66,
   "metadata": {
    "id": "_SlRqNNK95M_"
   },
   "outputs": [],
   "source": [
    "df['Gender']=df['Gender'].apply(lambda x:1 if x=='Male' else 0)"
   ]
  },
  {
   "cell_type": "code",
   "execution_count": 67,
   "metadata": {
    "id": "hi1GNhD4nPzk"
   },
   "outputs": [],
   "source": [
    "X,y=df.drop(['Exited','RowNumber','CustomerId','Surname','Geography'],1),df['Exited']"
   ]
  },
  {
   "cell_type": "code",
   "execution_count": 68,
   "metadata": {
    "id": "uOgppMtBoIRG"
   },
   "outputs": [],
   "source": [
    "X_train,X_test,y_train,y_test=train_test_split(X,y,test_size=0.2,random_state=42)\n"
   ]
  },
  {
   "cell_type": "code",
   "execution_count": 69,
   "metadata": {
    "id": "QdpTxZA1_GTx"
   },
   "outputs": [],
   "source": [
    "scaler = StandardScaler()\n",
    "X_train= scaler.fit_transform(X_train)\n",
    "X_test= scaler.transform(X_test)\n"
   ]
  },
  {
   "cell_type": "markdown",
   "metadata": {
    "id": "fJhypYWSA6ZO"
   },
   "source": [
    "### model 1"
   ]
  },
  {
   "cell_type": "code",
   "execution_count": 105,
   "metadata": {
    "id": "n8fICE4_pvFj"
   },
   "outputs": [],
   "source": [
    "metrics = [  \n",
    "    tf.metrics.BinaryAccuracy('Accuracy'),\n",
    "    tf.metrics.Precision(name='Precision'),\n",
    "    tf.metrics.Recall(name='Recall')]\n",
    "\n",
    "model1=keras.models.Sequential()\n",
    "\n",
    "model1.add(layers.BatchNormalization())\n",
    "model1.add(layers.Dropout(0.3))\n",
    "model1.add(layers.Dense(512, activation='relu', name='hidden_1'))\n",
    "model1.add(layers.Dense(1, activation='sigmoid', name='output'))\n",
    "\n",
    "model1.compile(loss='binary_crossentropy',\n",
    "             optimizer='adam',\n",
    "             metrics=metrics)"
   ]
  },
  {
   "cell_type": "code",
   "execution_count": 187,
   "metadata": {
    "colab": {
     "base_uri": "https://localhost:8080/"
    },
    "id": "_38naLMhr5OU",
    "outputId": "f581810c-c554-405c-c996-031d115d718a"
   },
   "outputs": [
    {
     "name": "stdout",
     "output_type": "stream",
     "text": [
      "Epoch 1/150\n",
      "7/7 [==============================] - 0s 18ms/step - loss: 0.3925 - Accuracy: 0.8356 - Precision: 0.7509 - Recall: 0.3056 - val_loss: 0.3535 - val_Accuracy: 0.8519 - val_Precision: 0.8829 - val_Recall: 0.3043\n",
      "Epoch 2/150\n",
      "7/7 [==============================] - 0s 13ms/step - loss: 0.3921 - Accuracy: 0.8364 - Precision: 0.7609 - Recall: 0.3033 - val_loss: 0.3512 - val_Accuracy: 0.8550 - val_Precision: 0.8689 - val_Recall: 0.3292\n",
      "Epoch 3/150\n",
      "7/7 [==============================] - 0s 11ms/step - loss: 0.3946 - Accuracy: 0.8367 - Precision: 0.7384 - Recall: 0.3245 - val_loss: 0.3535 - val_Accuracy: 0.8519 - val_Precision: 0.8632 - val_Recall: 0.3137\n",
      "Epoch 4/150\n",
      "7/7 [==============================] - 0s 9ms/step - loss: 0.3909 - Accuracy: 0.8356 - Precision: 0.7228 - Recall: 0.3313 - val_loss: 0.3548 - val_Accuracy: 0.8512 - val_Precision: 0.8750 - val_Recall: 0.3043\n",
      "Epoch 5/150\n",
      "7/7 [==============================] - 0s 11ms/step - loss: 0.3895 - Accuracy: 0.8392 - Precision: 0.7718 - Recall: 0.3147 - val_loss: 0.3547 - val_Accuracy: 0.8519 - val_Precision: 0.8761 - val_Recall: 0.3075\n",
      "Epoch 6/150\n",
      "7/7 [==============================] - 0s 10ms/step - loss: 0.3900 - Accuracy: 0.8341 - Precision: 0.7399 - Recall: 0.3033 - val_loss: 0.3547 - val_Accuracy: 0.8506 - val_Precision: 0.8609 - val_Recall: 0.3075\n",
      "Epoch 7/150\n",
      "7/7 [==============================] - 0s 11ms/step - loss: 0.3869 - Accuracy: 0.8338 - Precision: 0.7172 - Recall: 0.3222 - val_loss: 0.3550 - val_Accuracy: 0.8512 - val_Precision: 0.8500 - val_Recall: 0.3168\n",
      "Epoch 8/150\n",
      "7/7 [==============================] - 0s 10ms/step - loss: 0.3874 - Accuracy: 0.8381 - Precision: 0.7563 - Recall: 0.3192 - val_loss: 0.3555 - val_Accuracy: 0.8500 - val_Precision: 0.8727 - val_Recall: 0.2981\n",
      "Epoch 9/150\n",
      "7/7 [==============================] - 0s 10ms/step - loss: 0.3899 - Accuracy: 0.8364 - Precision: 0.7589 - Recall: 0.3048 - val_loss: 0.3547 - val_Accuracy: 0.8531 - val_Precision: 0.8850 - val_Recall: 0.3106\n",
      "Epoch 10/150\n",
      "7/7 [==============================] - 0s 10ms/step - loss: 0.3912 - Accuracy: 0.8356 - Precision: 0.7344 - Recall: 0.3200 - val_loss: 0.3539 - val_Accuracy: 0.8550 - val_Precision: 0.8629 - val_Recall: 0.3323\n",
      "Epoch 11/150\n",
      "7/7 [==============================] - 0s 10ms/step - loss: 0.3896 - Accuracy: 0.8373 - Precision: 0.7227 - Recall: 0.3449 - val_loss: 0.3565 - val_Accuracy: 0.8519 - val_Precision: 0.8571 - val_Recall: 0.3168\n",
      "Epoch 12/150\n",
      "7/7 [==============================] - 0s 9ms/step - loss: 0.3900 - Accuracy: 0.8339 - Precision: 0.7325 - Recall: 0.3086 - val_loss: 0.3573 - val_Accuracy: 0.8512 - val_Precision: 0.8889 - val_Recall: 0.2981\n"
     ]
    },
    {
     "data": {
      "text/plain": [
       "<keras.callbacks.History at 0x7f9521101810>"
      ]
     },
     "execution_count": 187,
     "metadata": {},
     "output_type": "execute_result"
    }
   ],
   "source": [
    "\n",
    "\n",
    "checkpoint_cb = keras.callbacks.ModelCheckpoint(\"my_keras_model1.h5\", save_best_only=True)\n",
    "\n",
    "# Creat EarlyStopping checkpoint:\n",
    "early_stopping_cb = keras.callbacks.EarlyStopping(patience=10, restore_best_weights=True)\n",
    "\n",
    "\n",
    "model1.fit(X_train, y_train,\n",
    "                    epochs=150,\n",
    "                     batch_size=1024,\n",
    "                     validation_split=0.2,\n",
    "                    callbacks=[checkpoint_cb, early_stopping_cb])"
   ]
  },
  {
   "cell_type": "code",
   "execution_count": 190,
   "metadata": {
    "colab": {
     "base_uri": "https://localhost:8080/"
    },
    "id": "3JgzuYJWo18h",
    "outputId": "ef76263e-6708-4f2f-d8d0-93dd0a66d5da"
   },
   "outputs": [
    {
     "name": "stdout",
     "output_type": "stream",
     "text": [
      "Training: Los= 0.3517, Accuracy= 0.8551, Precision= 0.8625, Recall=0.3510\n"
     ]
    }
   ],
   "source": [
    " eval=model1.evaluate(X_train, y_train, batch_size=1024, verbose=0)\n",
    " print('Training: Los= {:0.4f}, Accuracy= {:0.4f}, Precision= {:0.4f}, Recall={:0.4f}'.format(eval[0],eval[1],eval[2],eval[3]))"
   ]
  },
  {
   "cell_type": "code",
   "execution_count": 194,
   "metadata": {
    "colab": {
     "base_uri": "https://localhost:8080/"
    },
    "id": "mrJ1L4AtxAjl",
    "outputId": "d9a32f26-b546-4321-80f5-440abf0003d5"
   },
   "outputs": [
    {
     "name": "stdout",
     "output_type": "stream",
     "text": [
      "Training: Los= 0.3468, Accuracy= 0.8560, Precision= 0.8221, Recall=0.3410\n"
     ]
    }
   ],
   "source": [
    "eval=model1.evaluate(X_test, y_test, verbose=0)\n",
    "print('Testing: Los= {:0.4f}, Accuracy= {:0.4f}, Precision= {:0.4f}, Recall={:0.4f}'.format(eval[0],eval[1],eval[2],eval[3]))"
   ]
  },
  {
   "cell_type": "markdown",
   "metadata": {
    "id": "nTsco3TJA-fG"
   },
   "source": [
    "### model 2\n",
    "Try to add inital bias to output layer and weights to deal with imbalanced data"
   ]
  },
  {
   "cell_type": "code",
   "execution_count": 88,
   "metadata": {
    "colab": {
     "base_uri": "https://localhost:8080/"
    },
    "id": "J3wNoBa_RUr0",
    "outputId": "cddfa813-6253-4745-b59c-0790d6a380e5"
   },
   "outputs": [
    {
     "data": {
      "text/plain": [
       "array([-1.36332768])"
      ]
     },
     "execution_count": 88,
     "metadata": {},
     "output_type": "execute_result"
    }
   ],
   "source": [
    "initial_bias = np.log([pos/neg])\n",
    "output_bias = tf.keras.initializers.Constant(initial_bias)\n",
    "initial_bias"
   ]
  },
  {
   "cell_type": "code",
   "execution_count": 162,
   "metadata": {
    "colab": {
     "base_uri": "https://localhost:8080/"
    },
    "id": "-di4FaupWIg1",
    "outputId": "3ac47c3d-34cc-40f2-a656-a18fea834281"
   },
   "outputs": [
    {
     "data": {
      "text/plain": [
       "{0: 0.15697601406505088, 1: 2.454590083456063}"
      ]
     },
     "execution_count": 162,
     "metadata": {},
     "output_type": "execute_result"
    }
   ],
   "source": [
    "weight_for_0 = (1 / neg) * (total / 8.0)\n",
    "weight_for_1 =(1 / pos) * (total / 2.0)\n",
    "\n",
    "class_weight = {0: weight_for_0, 1: weight_for_1}\n",
    "class_weight"
   ]
  },
  {
   "cell_type": "code",
   "execution_count": 183,
   "metadata": {
    "id": "TXmIHleXct9C"
   },
   "outputs": [],
   "source": [
    "model2=keras.models.Sequential([\n",
    "      keras.layers.Dense(64, activation='relu',input_shape=(X_train.shape[-1],)),\n",
    "       keras.layers.Dense(32, activation='relu'),\n",
    "        keras.layers.Dense(16, activation='relu'),\n",
    "      keras.layers.Dense(1, activation='sigmoid',bias_initializer=output_bias),\n",
    "\n",
    "])\n",
    "\n"
   ]
  },
  {
   "cell_type": "code",
   "execution_count": 184,
   "metadata": {
    "colab": {
     "base_uri": "https://localhost:8080/"
    },
    "id": "JyyEWZK4q4pa",
    "outputId": "0ef1912d-6d08-46db-e1f2-8cc63cbe0ab5"
   },
   "outputs": [
    {
     "name": "stdout",
     "output_type": "stream",
     "text": [
      "Epoch 1/150\n",
      "7/7 [==============================] - 1s 64ms/step - loss: 0.5291 - Accuracy: 0.7936 - Precision: 1.0000 - Recall: 7.5643e-04 - val_loss: 0.5002 - val_Accuracy: 0.7987 - val_Precision: 0.0000e+00 - val_Recall: 0.0000e+00\n",
      "Epoch 2/150\n",
      "7/7 [==============================] - 0s 10ms/step - loss: 0.5001 - Accuracy: 0.7934 - Precision: 0.0000e+00 - Recall: 0.0000e+00 - val_loss: 0.4827 - val_Accuracy: 0.7987 - val_Precision: 0.0000e+00 - val_Recall: 0.0000e+00\n",
      "Epoch 3/150\n",
      "7/7 [==============================] - 0s 10ms/step - loss: 0.4848 - Accuracy: 0.7934 - Precision: 0.0000e+00 - Recall: 0.0000e+00 - val_loss: 0.4684 - val_Accuracy: 0.7987 - val_Precision: 0.0000e+00 - val_Recall: 0.0000e+00\n",
      "Epoch 4/150\n",
      "7/7 [==============================] - 0s 11ms/step - loss: 0.4708 - Accuracy: 0.7941 - Precision: 1.0000 - Recall: 0.0030 - val_loss: 0.4534 - val_Accuracy: 0.8025 - val_Precision: 1.0000 - val_Recall: 0.0186\n",
      "Epoch 5/150\n",
      "7/7 [==============================] - 0s 11ms/step - loss: 0.4565 - Accuracy: 0.7961 - Precision: 0.8400 - Recall: 0.0159 - val_loss: 0.4377 - val_Accuracy: 0.8075 - val_Precision: 0.8889 - val_Recall: 0.0497\n",
      "Epoch 6/150\n",
      "7/7 [==============================] - 0s 11ms/step - loss: 0.4422 - Accuracy: 0.8027 - Precision: 0.7921 - Recall: 0.0605 - val_loss: 0.4234 - val_Accuracy: 0.8150 - val_Precision: 0.7600 - val_Recall: 0.1180\n",
      "Epoch 7/150\n",
      "7/7 [==============================] - 0s 11ms/step - loss: 0.4290 - Accuracy: 0.8119 - Precision: 0.7611 - Recall: 0.1301 - val_loss: 0.4119 - val_Accuracy: 0.8244 - val_Precision: 0.7470 - val_Recall: 0.1925\n",
      "Epoch 8/150\n",
      "7/7 [==============================] - 0s 10ms/step - loss: 0.4178 - Accuracy: 0.8188 - Precision: 0.7547 - Recall: 0.1815 - val_loss: 0.4023 - val_Accuracy: 0.8306 - val_Precision: 0.7476 - val_Recall: 0.2391\n",
      "Epoch 9/150\n",
      "7/7 [==============================] - 0s 11ms/step - loss: 0.4077 - Accuracy: 0.8242 - Precision: 0.7713 - Recall: 0.2118 - val_loss: 0.3943 - val_Accuracy: 0.8363 - val_Precision: 0.7542 - val_Recall: 0.2764\n",
      "Epoch 10/150\n",
      "7/7 [==============================] - 0s 11ms/step - loss: 0.3976 - Accuracy: 0.8333 - Precision: 0.7545 - Recall: 0.2859 - val_loss: 0.3870 - val_Accuracy: 0.8419 - val_Precision: 0.7482 - val_Recall: 0.3230\n",
      "Epoch 11/150\n",
      "7/7 [==============================] - 0s 10ms/step - loss: 0.3879 - Accuracy: 0.8389 - Precision: 0.7584 - Recall: 0.3230 - val_loss: 0.3805 - val_Accuracy: 0.8444 - val_Precision: 0.7704 - val_Recall: 0.3230\n",
      "Epoch 12/150\n",
      "7/7 [==============================] - 0s 10ms/step - loss: 0.3793 - Accuracy: 0.8467 - Precision: 0.7935 - Recall: 0.3487 - val_loss: 0.3747 - val_Accuracy: 0.8481 - val_Precision: 0.7842 - val_Recall: 0.3385\n",
      "Epoch 13/150\n",
      "7/7 [==============================] - 0s 11ms/step - loss: 0.3709 - Accuracy: 0.8511 - Precision: 0.7981 - Recall: 0.3737 - val_loss: 0.3688 - val_Accuracy: 0.8512 - val_Precision: 0.7763 - val_Recall: 0.3665\n",
      "Epoch 14/150\n",
      "7/7 [==============================] - 0s 11ms/step - loss: 0.3641 - Accuracy: 0.8531 - Precision: 0.7752 - Recall: 0.4070 - val_loss: 0.3643 - val_Accuracy: 0.8525 - val_Precision: 0.7756 - val_Recall: 0.3758\n",
      "Epoch 15/150\n",
      "7/7 [==============================] - 0s 12ms/step - loss: 0.3586 - Accuracy: 0.8550 - Precision: 0.7958 - Recall: 0.4009 - val_loss: 0.3610 - val_Accuracy: 0.8550 - val_Precision: 0.8125 - val_Recall: 0.3634\n",
      "Epoch 16/150\n",
      "7/7 [==============================] - 0s 15ms/step - loss: 0.3537 - Accuracy: 0.8561 - Precision: 0.7885 - Recall: 0.4145 - val_loss: 0.3575 - val_Accuracy: 0.8550 - val_Precision: 0.7812 - val_Recall: 0.3882\n",
      "Epoch 17/150\n",
      "7/7 [==============================] - 0s 11ms/step - loss: 0.3504 - Accuracy: 0.8580 - Precision: 0.7721 - Recall: 0.4433 - val_loss: 0.3552 - val_Accuracy: 0.8537 - val_Precision: 0.7821 - val_Recall: 0.3789\n",
      "Epoch 18/150\n",
      "7/7 [==============================] - 0s 11ms/step - loss: 0.3471 - Accuracy: 0.8591 - Precision: 0.7893 - Recall: 0.4334 - val_loss: 0.3534 - val_Accuracy: 0.8575 - val_Precision: 0.8133 - val_Recall: 0.3789\n",
      "Epoch 19/150\n",
      "7/7 [==============================] - 0s 10ms/step - loss: 0.3442 - Accuracy: 0.8598 - Precision: 0.7923 - Recall: 0.4357 - val_loss: 0.3513 - val_Accuracy: 0.8550 - val_Precision: 0.7778 - val_Recall: 0.3913\n",
      "Epoch 20/150\n",
      "7/7 [==============================] - 0s 11ms/step - loss: 0.3421 - Accuracy: 0.8597 - Precision: 0.7775 - Recall: 0.4493 - val_loss: 0.3497 - val_Accuracy: 0.8556 - val_Precision: 0.7791 - val_Recall: 0.3944\n",
      "Epoch 21/150\n",
      "7/7 [==============================] - 0s 11ms/step - loss: 0.3400 - Accuracy: 0.8597 - Precision: 0.7760 - Recall: 0.4508 - val_loss: 0.3481 - val_Accuracy: 0.8587 - val_Precision: 0.8000 - val_Recall: 0.3975\n",
      "Epoch 22/150\n",
      "7/7 [==============================] - 0s 10ms/step - loss: 0.3390 - Accuracy: 0.8609 - Precision: 0.8025 - Recall: 0.4334 - val_loss: 0.3474 - val_Accuracy: 0.8569 - val_Precision: 0.7962 - val_Recall: 0.3882\n",
      "Epoch 23/150\n",
      "7/7 [==============================] - 0s 10ms/step - loss: 0.3376 - Accuracy: 0.8602 - Precision: 0.7607 - Recall: 0.4713 - val_loss: 0.3463 - val_Accuracy: 0.8606 - val_Precision: 0.7765 - val_Recall: 0.4317\n",
      "Epoch 24/150\n",
      "7/7 [==============================] - 0s 7ms/step - loss: 0.3353 - Accuracy: 0.8616 - Precision: 0.7802 - Recall: 0.4592 - val_loss: 0.3467 - val_Accuracy: 0.8562 - val_Precision: 0.8026 - val_Recall: 0.3789\n",
      "Epoch 25/150\n",
      "7/7 [==============================] - 0s 11ms/step - loss: 0.3339 - Accuracy: 0.8620 - Precision: 0.7840 - Recall: 0.4584 - val_loss: 0.3457 - val_Accuracy: 0.8619 - val_Precision: 0.7790 - val_Recall: 0.4379\n",
      "Epoch 26/150\n",
      "7/7 [==============================] - 0s 11ms/step - loss: 0.3329 - Accuracy: 0.8622 - Precision: 0.7709 - Recall: 0.4735 - val_loss: 0.3453 - val_Accuracy: 0.8600 - val_Precision: 0.7849 - val_Recall: 0.4193\n",
      "Epoch 27/150\n",
      "7/7 [==============================] - 0s 11ms/step - loss: 0.3315 - Accuracy: 0.8622 - Precision: 0.7857 - Recall: 0.4576 - val_loss: 0.3446 - val_Accuracy: 0.8594 - val_Precision: 0.7803 - val_Recall: 0.4193\n",
      "Epoch 28/150\n",
      "7/7 [==============================] - 0s 15ms/step - loss: 0.3305 - Accuracy: 0.8637 - Precision: 0.7834 - Recall: 0.4705 - val_loss: 0.3439 - val_Accuracy: 0.8594 - val_Precision: 0.7771 - val_Recall: 0.4224\n",
      "Epoch 29/150\n",
      "7/7 [==============================] - 0s 11ms/step - loss: 0.3294 - Accuracy: 0.8652 - Precision: 0.7946 - Recall: 0.4682 - val_loss: 0.3437 - val_Accuracy: 0.8581 - val_Precision: 0.7778 - val_Recall: 0.4130\n",
      "Epoch 30/150\n",
      "7/7 [==============================] - 0s 10ms/step - loss: 0.3285 - Accuracy: 0.8661 - Precision: 0.7947 - Recall: 0.4743 - val_loss: 0.3428 - val_Accuracy: 0.8594 - val_Precision: 0.7622 - val_Recall: 0.4379\n",
      "Epoch 31/150\n",
      "7/7 [==============================] - 0s 11ms/step - loss: 0.3278 - Accuracy: 0.8661 - Precision: 0.7633 - Recall: 0.5098 - val_loss: 0.3424 - val_Accuracy: 0.8594 - val_Precision: 0.7680 - val_Recall: 0.4317\n",
      "Epoch 32/150\n",
      "7/7 [==============================] - 0s 7ms/step - loss: 0.3271 - Accuracy: 0.8661 - Precision: 0.7932 - Recall: 0.4758 - val_loss: 0.3427 - val_Accuracy: 0.8587 - val_Precision: 0.7791 - val_Recall: 0.4161\n",
      "Epoch 33/150\n",
      "7/7 [==============================] - 0s 11ms/step - loss: 0.3258 - Accuracy: 0.8661 - Precision: 0.7903 - Recall: 0.4788 - val_loss: 0.3414 - val_Accuracy: 0.8594 - val_Precision: 0.7650 - val_Recall: 0.4348\n",
      "Epoch 34/150\n",
      "7/7 [==============================] - 0s 7ms/step - loss: 0.3249 - Accuracy: 0.8684 - Precision: 0.7850 - Recall: 0.5000 - val_loss: 0.3420 - val_Accuracy: 0.8581 - val_Precision: 0.7540 - val_Recall: 0.4379\n",
      "Epoch 35/150\n",
      "7/7 [==============================] - 0s 11ms/step - loss: 0.3244 - Accuracy: 0.8675 - Precision: 0.7795 - Recall: 0.5000 - val_loss: 0.3414 - val_Accuracy: 0.8587 - val_Precision: 0.7526 - val_Recall: 0.4441\n",
      "Epoch 36/150\n",
      "7/7 [==============================] - 0s 12ms/step - loss: 0.3236 - Accuracy: 0.8681 - Precision: 0.7936 - Recall: 0.4887 - val_loss: 0.3413 - val_Accuracy: 0.8606 - val_Precision: 0.7619 - val_Recall: 0.4472\n",
      "Epoch 37/150\n",
      "7/7 [==============================] - 0s 11ms/step - loss: 0.3233 - Accuracy: 0.8686 - Precision: 0.7724 - Recall: 0.5159 - val_loss: 0.3409 - val_Accuracy: 0.8600 - val_Precision: 0.7500 - val_Recall: 0.4565\n",
      "Epoch 38/150\n",
      "7/7 [==============================] - 0s 10ms/step - loss: 0.3225 - Accuracy: 0.8677 - Precision: 0.7858 - Recall: 0.4939 - val_loss: 0.3409 - val_Accuracy: 0.8625 - val_Precision: 0.7772 - val_Recall: 0.4441\n",
      "Epoch 39/150\n",
      "7/7 [==============================] - 0s 12ms/step - loss: 0.3212 - Accuracy: 0.8683 - Precision: 0.7861 - Recall: 0.4977 - val_loss: 0.3406 - val_Accuracy: 0.8600 - val_Precision: 0.7379 - val_Recall: 0.4720\n",
      "Epoch 40/150\n",
      "7/7 [==============================] - 0s 8ms/step - loss: 0.3213 - Accuracy: 0.8689 - Precision: 0.7651 - Recall: 0.5272 - val_loss: 0.3409 - val_Accuracy: 0.8612 - val_Precision: 0.7500 - val_Recall: 0.4658\n",
      "Epoch 41/150\n",
      "7/7 [==============================] - 0s 7ms/step - loss: 0.3205 - Accuracy: 0.8702 - Precision: 0.8035 - Recall: 0.4917 - val_loss: 0.3408 - val_Accuracy: 0.8606 - val_Precision: 0.7538 - val_Recall: 0.4565\n",
      "Epoch 42/150\n",
      "7/7 [==============================] - 0s 11ms/step - loss: 0.3196 - Accuracy: 0.8695 - Precision: 0.7764 - Recall: 0.5174 - val_loss: 0.3399 - val_Accuracy: 0.8587 - val_Precision: 0.7376 - val_Recall: 0.4627\n",
      "Epoch 43/150\n",
      "7/7 [==============================] - 0s 7ms/step - loss: 0.3187 - Accuracy: 0.8700 - Precision: 0.7931 - Recall: 0.5015 - val_loss: 0.3413 - val_Accuracy: 0.8625 - val_Precision: 0.7713 - val_Recall: 0.4503\n",
      "Epoch 44/150\n",
      "7/7 [==============================] - 0s 7ms/step - loss: 0.3183 - Accuracy: 0.8712 - Precision: 0.7964 - Recall: 0.5061 - val_loss: 0.3404 - val_Accuracy: 0.8587 - val_Precision: 0.7330 - val_Recall: 0.4689\n",
      "Epoch 45/150\n",
      "7/7 [==============================] - 0s 12ms/step - loss: 0.3173 - Accuracy: 0.8709 - Precision: 0.7851 - Recall: 0.5166 - val_loss: 0.3393 - val_Accuracy: 0.8600 - val_Precision: 0.7526 - val_Recall: 0.4534\n",
      "Epoch 46/150\n",
      "7/7 [==============================] - 0s 7ms/step - loss: 0.3169 - Accuracy: 0.8719 - Precision: 0.7919 - Recall: 0.5151 - val_loss: 0.3396 - val_Accuracy: 0.8581 - val_Precision: 0.7387 - val_Recall: 0.4565\n",
      "Epoch 47/150\n",
      "7/7 [==============================] - 0s 6ms/step - loss: 0.3169 - Accuracy: 0.8714 - Precision: 0.7905 - Recall: 0.5136 - val_loss: 0.3412 - val_Accuracy: 0.8594 - val_Precision: 0.7413 - val_Recall: 0.4627\n",
      "Epoch 48/150\n",
      "7/7 [==============================] - 0s 7ms/step - loss: 0.3159 - Accuracy: 0.8727 - Precision: 0.8007 - Recall: 0.5106 - val_loss: 0.3406 - val_Accuracy: 0.8587 - val_Precision: 0.7264 - val_Recall: 0.4783\n",
      "Epoch 49/150\n",
      "7/7 [==============================] - 0s 7ms/step - loss: 0.3157 - Accuracy: 0.8714 - Precision: 0.7788 - Recall: 0.5272 - val_loss: 0.3406 - val_Accuracy: 0.8612 - val_Precision: 0.7604 - val_Recall: 0.4534\n",
      "Epoch 50/150\n",
      "7/7 [==============================] - 0s 7ms/step - loss: 0.3151 - Accuracy: 0.8708 - Precision: 0.8044 - Recall: 0.4947 - val_loss: 0.3413 - val_Accuracy: 0.8600 - val_Precision: 0.7552 - val_Recall: 0.4503\n",
      "Epoch 51/150\n",
      "7/7 [==============================] - 0s 7ms/step - loss: 0.3142 - Accuracy: 0.8717 - Precision: 0.7831 - Recall: 0.5242 - val_loss: 0.3403 - val_Accuracy: 0.8581 - val_Precision: 0.7230 - val_Recall: 0.4783\n",
      "Epoch 52/150\n",
      "7/7 [==============================] - 0s 7ms/step - loss: 0.3139 - Accuracy: 0.8723 - Precision: 0.7873 - Recall: 0.5234 - val_loss: 0.3397 - val_Accuracy: 0.8606 - val_Precision: 0.7538 - val_Recall: 0.4565\n",
      "Epoch 53/150\n",
      "7/7 [==============================] - 0s 8ms/step - loss: 0.3133 - Accuracy: 0.8730 - Precision: 0.7909 - Recall: 0.5234 - val_loss: 0.3400 - val_Accuracy: 0.8619 - val_Precision: 0.7463 - val_Recall: 0.4752\n",
      "Epoch 54/150\n",
      "7/7 [==============================] - 0s 7ms/step - loss: 0.3125 - Accuracy: 0.8742 - Precision: 0.8023 - Recall: 0.5189 - val_loss: 0.3406 - val_Accuracy: 0.8612 - val_Precision: 0.7475 - val_Recall: 0.4689\n",
      "Epoch 55/150\n",
      "7/7 [==============================] - 0s 7ms/step - loss: 0.3126 - Accuracy: 0.8711 - Precision: 0.7783 - Recall: 0.5257 - val_loss: 0.3400 - val_Accuracy: 0.8606 - val_Precision: 0.7346 - val_Recall: 0.4814\n"
     ]
    },
    {
     "data": {
      "text/plain": [
       "<keras.callbacks.History at 0x7f9521b1da90>"
      ]
     },
     "execution_count": 184,
     "metadata": {},
     "output_type": "execute_result"
    }
   ],
   "source": [
    "\n",
    "metrics = [  \n",
    "    tf.metrics.BinaryAccuracy('Accuracy'),\n",
    "    tf.metrics.Precision(name='Precision'),\n",
    "    tf.metrics.Recall(name='Recall')]\n",
    "\n",
    "\n",
    "checkpoint_cb = keras.callbacks.ModelCheckpoint(\"my_keras_model2.h5\", save_best_only=True)\n",
    "early_stopping_cb = keras.callbacks.EarlyStopping(patience=10, restore_best_weights=True)\n",
    "\n",
    "model2.compile(optimizer = \"adam\", loss = \"binary_crossentropy\", metrics = metrics)\n",
    "model2.fit(X_train, y_train,validation_split=0.2, batch_size = 1024, epochs = 150,callbacks=[checkpoint_cb,early_stopping_cb])  \n"
   ]
  },
  {
   "cell_type": "code",
   "execution_count": 195,
   "metadata": {
    "colab": {
     "base_uri": "https://localhost:8080/"
    },
    "id": "2a9QHrLrpkbL",
    "outputId": "9f488678-b6e9-455a-c8f3-80643aff8649"
   },
   "outputs": [
    {
     "name": "stdout",
     "output_type": "stream",
     "text": [
      "Training: Los= 0.3211, Accuracy= 0.8687, Precision= 0.7845, Recall=0.4982\n"
     ]
    }
   ],
   "source": [
    "eval=model2.evaluate(X_train, y_train, batch_size=1024, verbose=0)\n",
    "print('Training: Los= {:0.4f}, Accuracy= {:0.4f}, Precision= {:0.4f}, Recall={:0.4f}'.format(eval[0],eval[1],eval[2],eval[3]))"
   ]
  },
  {
   "cell_type": "code",
   "execution_count": 196,
   "metadata": {
    "colab": {
     "base_uri": "https://localhost:8080/"
    },
    "id": "e684ia61r_2H",
    "outputId": "31a48d61-0f9d-48d6-a038-c4f3f5587fa6"
   },
   "outputs": [
    {
     "name": "stdout",
     "output_type": "stream",
     "text": [
      "Testing: Los= 0.3398, Accuracy= 0.8590, Precision= 0.7110, Recall=0.4758\n"
     ]
    }
   ],
   "source": [
    "  \n",
    "eval = model2.evaluate(X_test, y_test,verbose=0)  \n",
    "print('Testing: Los= {:0.4f}, Accuracy= {:0.4f}, Precision= {:0.4f}, Recall={:0.4f}'.format(eval[0],eval[1],eval[2],eval[3]))"
   ]
  },
  {
   "cell_type": "code",
   "execution_count": null,
   "metadata": {
    "id": "CvW5ZOthpsjs"
   },
   "outputs": [],
   "source": []
  }
 ],
 "metadata": {
  "colab": {
   "name": "NN_assignment1_Osama_Ayman.ipynb",
   "provenance": []
  },
  "kernelspec": {
   "display_name": "Python 3",
   "language": "python",
   "name": "python3"
  },
  "language_info": {
   "name": "python"
  }
 },
 "nbformat": 4,
 "nbformat_minor": 1
}
