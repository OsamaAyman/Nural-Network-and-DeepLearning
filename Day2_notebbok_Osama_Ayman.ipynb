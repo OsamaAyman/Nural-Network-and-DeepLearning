{
 "cells": [
  {
   "cell_type": "markdown",
   "metadata": {
    "id": "nlgQqCdB73Id"
   },
   "source": [
    "# Implementing DNN Classifier with TensorFlow and Keras \n",
    "\n",
    "**TensorFlow** as being described in its official website is an end-to-end open source platform for machine learning. It has a comprehensive, flexible ecosystem of tools, libraries and community resources that lets researchers push the state-of-the-art in ML and developers easily build and deploy ML powered applications.\n",
    "So, What is Keras?\n",
    "\n",
    "**Keras** is a high-level API for Deep Learning that can implement (build, train and evaluate) any sort of Deep Neural Networks (DNN). It was developed as a research project by Francois Chollet. It becomes popular because of its flexibility, its ease of use and its ability to do NN heavy computations.\n",
    "\n",
    "As it's high-level API, it relies on a computation backend libraries such as Theano, Microsoft Cognitive Toolkit (CNTK) and of course TensorFlow and because of that it's called multi-backend Keras.\n",
    "\n",
    "TensorFlow adopted Keras as its official high-level API abd it now comes bundled with its own Keras implementation, tensorflow.keras. It only supports TensorFlow as the backend, but it has the advantage of offering some very useful extra features.\n",
    "Installation\n",
    "\n",
    "It's preferred to build your TensorFlow backend library on a virtual environment. You can build it directly on your conda-base environment or create a new environment with the folowing command:\n",
    "\n",
    "$ conda create -n tf\n",
    "\n",
    "The activate it:\n",
    "\n",
    "$ conda activate tf\n",
    "\n",
    "Then to install TensorFlow (latest version) just run the following command:\n",
    "\n",
    "$ pip install tensorflow\n",
    "\n",
    "If you want to install a separate copy of Keras:\n",
    "\n",
    "$ pip install keras\n"
   ]
  },
  {
   "cell_type": "code",
   "execution_count": 2,
   "metadata": {
    "colab": {
     "base_uri": "https://localhost:8080/"
    },
    "id": "REsb_3Cz8WAd",
    "outputId": "49cfb46b-8d7e-4eba-b129-03e348f387e9"
   },
   "outputs": [
    {
     "name": "stdout",
     "output_type": "stream",
     "text": [
      "TensorFlow:  2.7.0\n",
      "Keras 2.7.0\n"
     ]
    }
   ],
   "source": [
    "# Testing your installation\n",
    "import tensorflow as tf\n",
    "from tensorflow import keras\n",
    "import numpy as np\n",
    "\n",
    "print('TensorFlow: ', tf.__version__)\n",
    "print('Keras', keras.__version__)"
   ]
  },
  {
   "cell_type": "code",
   "execution_count": 3,
   "metadata": {
    "colab": {
     "base_uri": "https://localhost:8080/"
    },
    "id": "B0zci-S5Ay1R",
    "outputId": "f2244989-7119-4546-8762-9a784249d4ac"
   },
   "outputs": [
    {
     "name": "stdout",
     "output_type": "stream",
     "text": [
      "X_train shape:  (60000, 28, 28)\n",
      "X_test shape:  (10000, 28, 28)\n",
      "X data type:  uint8\n",
      "y_train shape:  (60000,)\n"
     ]
    }
   ],
   "source": [
    "f_mnist = keras.datasets.fashion_mnist\n",
    "(X_train, y_train), (X_test, y_test) = f_mnist.load_data()\n",
    "print('X_train shape: ', X_train.shape)\n",
    "print('X_test shape: ', X_test.shape)\n",
    "print('X data type: ', X_train.dtype)\n",
    "print('y_train shape: ', y_train.shape)"
   ]
  },
  {
   "cell_type": "code",
   "execution_count": 4,
   "metadata": {
    "colab": {
     "base_uri": "https://localhost:8080/"
    },
    "id": "7XagWPr8BHZG",
    "outputId": "d05674bd-34ef-4369-fd2c-d9dd7756392f"
   },
   "outputs": [
    {
     "data": {
      "text/plain": [
       "array([  0,   0,   0,   0,   0,   1,   0,   0,   0,   0,  41, 188, 103,\n",
       "        54,  48,  43,  87, 168, 133,  16,   0,   0,   0,   0,   0,   0,\n",
       "         0,   0], dtype=uint8)"
      ]
     },
     "execution_count": 4,
     "metadata": {},
     "output_type": "execute_result"
    }
   ],
   "source": [
    "X_train[1][0]"
   ]
  },
  {
   "cell_type": "markdown",
   "metadata": {
    "id": "QEhvi4LjkqVc"
   },
   "source": [
    "## Preparing the image data\n",
    "\n",
    "Before training, we’ll preprocess the data by:\n",
    "\n",
    "1. Scaling it (as we will use the Gradient Descent to train our network) so that all values are in the [0, 1] interval.\n",
    "2. Training images, for instance, were stored in an array of shape (60000, 28, 28) of type uint8 with values in the [0, 255] interval per pixel. We will transform it into a float32 array of shape (60000, 28 * 28) with values between 0 and 1.\n",
    "\n",
    "dataset [link](https://github.com/zalandoresearch/fashion-mnist)"
   ]
  },
  {
   "cell_type": "code",
   "execution_count": 5,
   "metadata": {
    "colab": {
     "base_uri": "https://localhost:8080/",
     "height": 741
    },
    "id": "ns6BPbqFohDv",
    "outputId": "0fd601d3-8fb3-4d12-a91e-19f01ae6202b"
   },
   "outputs": [
    {
     "data": {
      "image/png": "[encoded data removed]",
      "text/plain": [
       "<Figure size 432x288 with 1 Axes>"
      ]
     },
     "metadata": {
      "needs_background": "light"
     },
     "output_type": "display_data"
    },
    {
     "name": "stdout",
     "output_type": "stream",
     "text": [
      "[[  0   0   0   0   0   1   0   0   0   0  41 188 103  54  48  43  87 168 133  16   0   0   0   0   0   0   0   0]\n",
      " [  0   0   0   1   0   0   0  49 136 219 216 228 236 255 255 255 255 217 215 254 231 160  45   0   0   0   0   0]\n",
      " [  0   0   0   0   0  14 176 222 224 212 203 198 196 200 215 204 202 201 201 201 209 218 224 164   0   0   0   0]\n",
      " [  0   0   0   0   0 188 219 200 198 202 198 199 199 201 196 198 198 200 200 200 200 201 200 225  41   0   0   0]\n",
      " [  0   0   0   0  51 219 199 203 203 212 238 248 250 245 249 246 247 252 248 235 207 203 203 222 140   0   0   0]\n",
      " [  0   0   0   0 116 226 206 204 207 204 101  75  47  73  48  50  45  51  63 113 222 202 206 220 224   0   0   0]\n",
      " [  0   0   0   0 200 222 209 203 215 200   0  70  98   0 103  59  68  71  49   0 219 206 214 210 250  38   0   0]\n",
      " [  0   0   0   0 247 218 212 210 215 214   0 254 243 139 255 174 251 255 205   0 215 217 214 208 220  95   0   0]\n",
      " [  0   0   0  45 226 214 214 215 224 205   0  42  35  60  16  17  12  13  70   0 189 216 212 206 212 156   0   0]\n",
      " [  0   0   0 164 235 214 211 220 216 201  52  71  89  94  83  78  70  76  92  87 206 207 222 213 219 208   0   0]\n",
      " [  0   0   0 106 187 223 237 248 211 198 252 250 248 245 248 252 253 250 252 239 201 212 225 215 193 113   0   0]\n",
      " [  0   0   0   0   0  17  54 159 222 193 208 192 197 200 200 200 200 201 203 195 210 165   0   0   0   0   0   0]\n",
      " [  0   0   0   0   0   0   0  47 225 192 214 203 206 204 204 205 206 204 212 197 218 107   0   0   0   0   0   0]\n",
      " [  0   0   0   0   1   6   0  46 212 195 212 202 206 205 204 205 206 204 212 200 218  91   0   3   1   0   0   0]\n",
      " [  0   0   0   0   0   1   0  11 197 199 205 202 205 206 204 205 207 204 205 205 218  77   0   5   0   0   0   0]\n",
      " [  0   0   0   0   0   3   0   2 191 198 201 205 206 205 205 206 209 206 199 209 219  74   0   5   0   0   0   0]\n",
      " [  0   0   0   0   0   2   0   0 188 197 200 207 207 204 207 207 210 208 198 207 221  72   0   4   0   0   0   0]\n",
      " [  0   0   0   0   0   2   0   0 215 198 203 206 208 205 207 207 210 208 200 202 222  75   0   4   0   0   0   0]\n",
      " [  0   0   0   0   0   1   0   0 212 198 209 206 209 206 208 207 211 206 205 198 221  80   0   3   0   0   0   0]\n",
      " [  0   0   0   0   0   1   0   0 204 201 205 208 207 205 211 205 210 210 209 195 221  96   0   3   0   0   0   0]\n",
      " [  0   0   0   0   0   1   0   0 202 201 205 209 207 205 213 206 210 209 210 194 217 105   0   2   0   0   0   0]\n",
      " [  0   0   0   0   0   1   0   0 204 204 205 208 207 205 215 207 210 208 211 193 213 115   0   2   0   0   0   0]\n",
      " [  0   0   0   0   0   0   0   0 204 207 207 208 206 206 215 210 210 207 212 195 210 118   0   2   0   0   0   0]\n",
      " [  0   0   0   0   0   1   0   0 198 208 208 208 204 207 212 212 210 207 211 196 207 121   0   1   0   0   0   0]\n",
      " [  0   0   0   0   0   1   0   0 198 210 207 208 206 209 213 212 211 207 210 197 207 124   0   1   0   0   0   0]\n",
      " [  0   0   0   0   0   0   0   0 172 210 203 201 199 204 207 205 204 201 205 197 206 127   0   0   0   0   0   0]\n",
      " [  0   0   0   0   0   0   0   0 188 221 214 234 236 238 244 244 244 240 243 214 224 162   0   2   0   0   0   0]\n",
      " [  0   0   0   0   0   1   0   0 139 146 130 135 135 137 125 124 125 121 119 114 130  76   0   0   0   0   0   0]]\n"
     ]
    }
   ],
   "source": [
    "import matplotlib.pyplot as plt\n",
    "np.set_printoptions(linewidth=200)\n",
    "plt.imshow(X_train[1], cmap=plt.cm.binary)\n",
    "plt.show()\n",
    "print(X_train[1])"
   ]
  },
  {
   "cell_type": "code",
   "execution_count": 6,
   "metadata": {
    "id": "Q3AaNH5jkpz8"
   },
   "outputs": [],
   "source": [
    "X_train = X_train/255"
   ]
  },
  {
   "cell_type": "code",
   "execution_count": 7,
   "metadata": {
    "colab": {
     "base_uri": "https://localhost:8080/"
    },
    "id": "lx0z5oL-kap3",
    "outputId": "412d421a-bae3-4dc4-a8e5-7e3c8d5583fd"
   },
   "outputs": [
    {
     "data": {
      "text/plain": [
       "array([[0.        , 0.        , 0.        , 0.        , 0.        , 0.00392157, 0.        , 0.        , 0.        , 0.        , 0.16078431, 0.7372549 , 0.40392157, 0.21176471, 0.18823529,\n",
       "        0.16862745, 0.34117647, 0.65882353, 0.52156863, 0.0627451 , 0.        , 0.        , 0.        , 0.        , 0.        , 0.        , 0.        , 0.        ],\n",
       "       [0.        , 0.        , 0.        , 0.00392157, 0.        , 0.        , 0.        , 0.19215686, 0.53333333, 0.85882353, 0.84705882, 0.89411765, 0.9254902 , 1.        , 1.        ,\n",
       "        1.        , 1.        , 0.85098039, 0.84313725, 0.99607843, 0.90588235, 0.62745098, 0.17647059, 0.        , 0.        , 0.        , 0.        , 0.        ],\n",
       "       [0.        , 0.        , 0.        , 0.        , 0.        , 0.05490196, 0.69019608, 0.87058824, 0.87843137, 0.83137255, 0.79607843, 0.77647059, 0.76862745, 0.78431373, 0.84313725,\n",
       "        0.8       , 0.79215686, 0.78823529, 0.78823529, 0.78823529, 0.81960784, 0.85490196, 0.87843137, 0.64313725, 0.        , 0.        , 0.        , 0.        ],\n",
       "       [0.        , 0.        , 0.        , 0.        , 0.        , 0.7372549 , 0.85882353, 0.78431373, 0.77647059, 0.79215686, 0.77647059, 0.78039216, 0.78039216, 0.78823529, 0.76862745,\n",
       "        0.77647059, 0.77647059, 0.78431373, 0.78431373, 0.78431373, 0.78431373, 0.78823529, 0.78431373, 0.88235294, 0.16078431, 0.        , 0.        , 0.        ],\n",
       "       [0.        , 0.        , 0.        , 0.        , 0.2       , 0.85882353, 0.78039216, 0.79607843, 0.79607843, 0.83137255, 0.93333333, 0.97254902, 0.98039216, 0.96078431, 0.97647059,\n",
       "        0.96470588, 0.96862745, 0.98823529, 0.97254902, 0.92156863, 0.81176471, 0.79607843, 0.79607843, 0.87058824, 0.54901961, 0.        , 0.        , 0.        ],\n",
       "       [0.        , 0.        , 0.        , 0.        , 0.45490196, 0.88627451, 0.80784314, 0.8       , 0.81176471, 0.8       , 0.39607843, 0.29411765, 0.18431373, 0.28627451, 0.18823529,\n",
       "        0.19607843, 0.17647059, 0.2       , 0.24705882, 0.44313725, 0.87058824, 0.79215686, 0.80784314, 0.8627451 , 0.87843137, 0.        , 0.        , 0.        ],\n",
       "       [0.        , 0.        , 0.        , 0.        , 0.78431373, 0.87058824, 0.81960784, 0.79607843, 0.84313725, 0.78431373, 0.        , 0.2745098 , 0.38431373, 0.        , 0.40392157,\n",
       "        0.23137255, 0.26666667, 0.27843137, 0.19215686, 0.        , 0.85882353, 0.80784314, 0.83921569, 0.82352941, 0.98039216, 0.14901961, 0.        , 0.        ],\n",
       "       [0.        , 0.        , 0.        , 0.        , 0.96862745, 0.85490196, 0.83137255, 0.82352941, 0.84313725, 0.83921569, 0.        , 0.99607843, 0.95294118, 0.54509804, 1.        ,\n",
       "        0.68235294, 0.98431373, 1.        , 0.80392157, 0.        , 0.84313725, 0.85098039, 0.83921569, 0.81568627, 0.8627451 , 0.37254902, 0.        , 0.        ],\n",
       "       [0.        , 0.        , 0.        , 0.17647059, 0.88627451, 0.83921569, 0.83921569, 0.84313725, 0.87843137, 0.80392157, 0.        , 0.16470588, 0.1372549 , 0.23529412, 0.0627451 ,\n",
       "        0.06666667, 0.04705882, 0.05098039, 0.2745098 , 0.        , 0.74117647, 0.84705882, 0.83137255, 0.80784314, 0.83137255, 0.61176471, 0.        , 0.        ],\n",
       "       [0.        , 0.        , 0.        , 0.64313725, 0.92156863, 0.83921569, 0.82745098, 0.8627451 , 0.84705882, 0.78823529, 0.20392157, 0.27843137, 0.34901961, 0.36862745, 0.3254902 ,\n",
       "        0.30588235, 0.2745098 , 0.29803922, 0.36078431, 0.34117647, 0.80784314, 0.81176471, 0.87058824, 0.83529412, 0.85882353, 0.81568627, 0.        , 0.        ],\n",
       "       [0.        , 0.        , 0.        , 0.41568627, 0.73333333, 0.8745098 , 0.92941176, 0.97254902, 0.82745098, 0.77647059, 0.98823529, 0.98039216, 0.97254902, 0.96078431, 0.97254902,\n",
       "        0.98823529, 0.99215686, 0.98039216, 0.98823529, 0.9372549 , 0.78823529, 0.83137255, 0.88235294, 0.84313725, 0.75686275, 0.44313725, 0.        , 0.        ],\n",
       "       [0.        , 0.        , 0.        , 0.        , 0.        , 0.06666667, 0.21176471, 0.62352941, 0.87058824, 0.75686275, 0.81568627, 0.75294118, 0.77254902, 0.78431373, 0.78431373,\n",
       "        0.78431373, 0.78431373, 0.78823529, 0.79607843, 0.76470588, 0.82352941, 0.64705882, 0.        , 0.        , 0.        , 0.        , 0.        , 0.        ],\n",
       "       [0.        , 0.        , 0.        , 0.        , 0.        , 0.        , 0.        , 0.18431373, 0.88235294, 0.75294118, 0.83921569, 0.79607843, 0.80784314, 0.8       , 0.8       ,\n",
       "        0.80392157, 0.80784314, 0.8       , 0.83137255, 0.77254902, 0.85490196, 0.41960784, 0.        , 0.        , 0.        , 0.        , 0.        , 0.        ],\n",
       "       [0.        , 0.        , 0.        , 0.        , 0.00392157, 0.02352941, 0.        , 0.18039216, 0.83137255, 0.76470588, 0.83137255, 0.79215686, 0.80784314, 0.80392157, 0.8       ,\n",
       "        0.80392157, 0.80784314, 0.8       , 0.83137255, 0.78431373, 0.85490196, 0.35686275, 0.        , 0.01176471, 0.00392157, 0.        , 0.        , 0.        ],\n",
       "       [0.        , 0.        , 0.        , 0.        , 0.        , 0.00392157, 0.        , 0.04313725, 0.77254902, 0.78039216, 0.80392157, 0.79215686, 0.80392157, 0.80784314, 0.8       ,\n",
       "        0.80392157, 0.81176471, 0.8       , 0.80392157, 0.80392157, 0.85490196, 0.30196078, 0.        , 0.01960784, 0.        , 0.        , 0.        , 0.        ],\n",
       "       [0.        , 0.        , 0.        , 0.        , 0.        , 0.01176471, 0.        , 0.00784314, 0.74901961, 0.77647059, 0.78823529, 0.80392157, 0.80784314, 0.80392157, 0.80392157,\n",
       "        0.80784314, 0.81960784, 0.80784314, 0.78039216, 0.81960784, 0.85882353, 0.29019608, 0.        , 0.01960784, 0.        , 0.        , 0.        , 0.        ],\n",
       "       [0.        , 0.        , 0.        , 0.        , 0.        , 0.00784314, 0.        , 0.        , 0.7372549 , 0.77254902, 0.78431373, 0.81176471, 0.81176471, 0.8       , 0.81176471,\n",
       "        0.81176471, 0.82352941, 0.81568627, 0.77647059, 0.81176471, 0.86666667, 0.28235294, 0.        , 0.01568627, 0.        , 0.        , 0.        , 0.        ],\n",
       "       [0.        , 0.        , 0.        , 0.        , 0.        , 0.00784314, 0.        , 0.        , 0.84313725, 0.77647059, 0.79607843, 0.80784314, 0.81568627, 0.80392157, 0.81176471,\n",
       "        0.81176471, 0.82352941, 0.81568627, 0.78431373, 0.79215686, 0.87058824, 0.29411765, 0.        , 0.01568627, 0.        , 0.        , 0.        , 0.        ],\n",
       "       [0.        , 0.        , 0.        , 0.        , 0.        , 0.00392157, 0.        , 0.        , 0.83137255, 0.77647059, 0.81960784, 0.80784314, 0.81960784, 0.80784314, 0.81568627,\n",
       "        0.81176471, 0.82745098, 0.80784314, 0.80392157, 0.77647059, 0.86666667, 0.31372549, 0.        , 0.01176471, 0.        , 0.        , 0.        , 0.        ],\n",
       "       [0.        , 0.        , 0.        , 0.        , 0.        , 0.00392157, 0.        , 0.        , 0.8       , 0.78823529, 0.80392157, 0.81568627, 0.81176471, 0.80392157, 0.82745098,\n",
       "        0.80392157, 0.82352941, 0.82352941, 0.81960784, 0.76470588, 0.86666667, 0.37647059, 0.        , 0.01176471, 0.        , 0.        , 0.        , 0.        ],\n",
       "       [0.        , 0.        , 0.        , 0.        , 0.        , 0.00392157, 0.        , 0.        , 0.79215686, 0.78823529, 0.80392157, 0.81960784, 0.81176471, 0.80392157, 0.83529412,\n",
       "        0.80784314, 0.82352941, 0.81960784, 0.82352941, 0.76078431, 0.85098039, 0.41176471, 0.        , 0.00784314, 0.        , 0.        , 0.        , 0.        ],\n",
       "       [0.        , 0.        , 0.        , 0.        , 0.        , 0.00392157, 0.        , 0.        , 0.8       , 0.8       , 0.80392157, 0.81568627, 0.81176471, 0.80392157, 0.84313725,\n",
       "        0.81176471, 0.82352941, 0.81568627, 0.82745098, 0.75686275, 0.83529412, 0.45098039, 0.        , 0.00784314, 0.        , 0.        , 0.        , 0.        ],\n",
       "       [0.        , 0.        , 0.        , 0.        , 0.        , 0.        , 0.        , 0.        , 0.8       , 0.81176471, 0.81176471, 0.81568627, 0.80784314, 0.80784314, 0.84313725,\n",
       "        0.82352941, 0.82352941, 0.81176471, 0.83137255, 0.76470588, 0.82352941, 0.4627451 , 0.        , 0.00784314, 0.        , 0.        , 0.        , 0.        ],\n",
       "       [0.        , 0.        , 0.        , 0.        , 0.        , 0.00392157, 0.        , 0.        , 0.77647059, 0.81568627, 0.81568627, 0.81568627, 0.8       , 0.81176471, 0.83137255,\n",
       "        0.83137255, 0.82352941, 0.81176471, 0.82745098, 0.76862745, 0.81176471, 0.4745098 , 0.        , 0.00392157, 0.        , 0.        , 0.        , 0.        ],\n",
       "       [0.        , 0.        , 0.        , 0.        , 0.        , 0.00392157, 0.        , 0.        , 0.77647059, 0.82352941, 0.81176471, 0.81568627, 0.80784314, 0.81960784, 0.83529412,\n",
       "        0.83137255, 0.82745098, 0.81176471, 0.82352941, 0.77254902, 0.81176471, 0.48627451, 0.        , 0.00392157, 0.        , 0.        , 0.        , 0.        ],\n",
       "       [0.        , 0.        , 0.        , 0.        , 0.        , 0.        , 0.        , 0.        , 0.6745098 , 0.82352941, 0.79607843, 0.78823529, 0.78039216, 0.8       , 0.81176471,\n",
       "        0.80392157, 0.8       , 0.78823529, 0.80392157, 0.77254902, 0.80784314, 0.49803922, 0.        , 0.        , 0.        , 0.        , 0.        , 0.        ],\n",
       "       [0.        , 0.        , 0.        , 0.        , 0.        , 0.        , 0.        , 0.        , 0.7372549 , 0.86666667, 0.83921569, 0.91764706, 0.9254902 , 0.93333333, 0.95686275,\n",
       "        0.95686275, 0.95686275, 0.94117647, 0.95294118, 0.83921569, 0.87843137, 0.63529412, 0.        , 0.00784314, 0.        , 0.        , 0.        , 0.        ],\n",
       "       [0.        , 0.        , 0.        , 0.        , 0.        , 0.00392157, 0.        , 0.        , 0.54509804, 0.57254902, 0.50980392, 0.52941176, 0.52941176, 0.5372549 , 0.49019608,\n",
       "        0.48627451, 0.49019608, 0.4745098 , 0.46666667, 0.44705882, 0.50980392, 0.29803922, 0.        , 0.        , 0.        , 0.        , 0.        , 0.        ]])"
      ]
     },
     "execution_count": 7,
     "metadata": {},
     "output_type": "execute_result"
    }
   ],
   "source": [
    "X_train[1]"
   ]
  },
  {
   "cell_type": "code",
   "execution_count": 8,
   "metadata": {
    "id": "oj5a2ulhlNwk"
   },
   "outputs": [],
   "source": [
    "class_name = np.array([\"T-shirt/top\", \"Trouser\", \"Pullover\",\n",
    "                       \"Dress\", \"Coat\", \"Sandal\", \"Shirt\",\n",
    "                       \"Sneaker\", \"Bag\", \"Ankle boot\"])"
   ]
  },
  {
   "cell_type": "code",
   "execution_count": 9,
   "metadata": {
    "colab": {
     "base_uri": "https://localhost:8080/"
    },
    "id": "Ci0AZtWJoNY0",
    "outputId": "6e0f411e-6a52-40bb-9d4b-411b35816e41"
   },
   "outputs": [
    {
     "data": {
      "text/plain": [
       "(0, 'T-shirt/top')"
      ]
     },
     "execution_count": 9,
     "metadata": {},
     "output_type": "execute_result"
    }
   ],
   "source": [
    "y_train[1], class_name[y_train[1]]"
   ]
  },
  {
   "cell_type": "code",
   "execution_count": 10,
   "metadata": {
    "colab": {
     "base_uri": "https://localhost:8080/"
    },
    "id": "x0zgdkTgrlWQ",
    "outputId": "724e48a2-4b9b-4737-895f-cd5d46d3e64f"
   },
   "outputs": [
    {
     "data": {
      "text/plain": [
       "(28, 28)"
      ]
     },
     "execution_count": 10,
     "metadata": {},
     "output_type": "execute_result"
    }
   ],
   "source": [
    "X_train[0].shape"
   ]
  },
  {
   "cell_type": "code",
   "execution_count": 11,
   "metadata": {
    "id": "_KH4AmhIo50T"
   },
   "outputs": [],
   "source": [
    "# Create Sequential Model\n",
    "model = keras.models.Sequential()\n",
    "\n",
    "# Adding our layers\n",
    "from tensorflow.keras import layers\n",
    "\n",
    "model.add(layers.Flatten(input_shape=X_train[0].shape, name='input'))\n",
    "model.add(layers.BatchNormalization())\n",
    "model.add(layers.Dropout(0.3))\n",
    "model.add(layers.Dense(512, activation='relu', name='hidden_1'))\n",
    "model.add(layers.BatchNormalization())\n",
    "model.add(layers.Dropout(0.2))\n",
    "model.add(layers.Dense(256, activation='relu', name='hidden_2'))\n",
    "model.add(layers.BatchNormalization())\n",
    "model.add(layers.Dropout(0.2))\n",
    "model.add(layers.Dense(128, activation='relu', name='hidden_3'))\n",
    "model.add(layers.Dense(10, activation='softmax', name='output'))"
   ]
  },
  {
   "cell_type": "code",
   "execution_count": 12,
   "metadata": {
    "colab": {
     "base_uri": "https://localhost:8080/"
    },
    "id": "rReKfkbarg75",
    "outputId": "e112edc8-7b7d-445b-c099-123e6f4cfe37"
   },
   "outputs": [
    {
     "name": "stdout",
     "output_type": "stream",
     "text": [
      "Model: \"sequential\"\n",
      "_________________________________________________________________\n",
      " Layer (type)                Output Shape              Param #   \n",
      "=================================================================\n",
      " input (Flatten)             (None, 784)               0         \n",
      "                                                                 \n",
      " batch_normalization (BatchN  (None, 784)              3136      \n",
      " ormalization)                                                   \n",
      "                                                                 \n",
      " dropout (Dropout)           (None, 784)               0         \n",
      "                                                                 \n",
      " hidden_1 (Dense)            (None, 512)               401920    \n",
      "                                                                 \n",
      " batch_normalization_1 (Batc  (None, 512)              2048      \n",
      " hNormalization)                                                 \n",
      "                                                                 \n",
      " dropout_1 (Dropout)         (None, 512)               0         \n",
      "                                                                 \n",
      " hidden_2 (Dense)            (None, 256)               131328    \n",
      "                                                                 \n",
      " batch_normalization_2 (Batc  (None, 256)              1024      \n",
      " hNormalization)                                                 \n",
      "                                                                 \n",
      " dropout_2 (Dropout)         (None, 256)               0         \n",
      "                                                                 \n",
      " hidden_3 (Dense)            (None, 128)               32896     \n",
      "                                                                 \n",
      " output (Dense)              (None, 10)                1290      \n",
      "                                                                 \n",
      "=================================================================\n",
      "Total params: 573,642\n",
      "Trainable params: 570,538\n",
      "Non-trainable params: 3,104\n",
      "_________________________________________________________________\n"
     ]
    }
   ],
   "source": [
    "model.summary()"
   ]
  },
  {
   "cell_type": "code",
   "execution_count": 13,
   "metadata": {
    "colab": {
     "base_uri": "https://localhost:8080/"
    },
    "id": "JLDhQa65sELr",
    "outputId": "69faf386-1ba2-4be9-cf1c-1d1f0e12c0ae"
   },
   "outputs": [
    {
     "data": {
      "text/plain": [
       "[<keras.layers.core.flatten.Flatten at 0x7f11205c1290>,\n",
       " <keras.layers.normalization.batch_normalization.BatchNormalization at 0x7f1120af0b90>,\n",
       " <keras.layers.core.dropout.Dropout at 0x7f1120a51390>,\n",
       " <keras.layers.core.dense.Dense at 0x7f11205a1650>,\n",
       " <keras.layers.normalization.batch_normalization.BatchNormalization at 0x7f1120580a10>,\n",
       " <keras.layers.core.dropout.Dropout at 0x7f1120b08bd0>,\n",
       " <keras.layers.core.dense.Dense at 0x7f111cc47e50>,\n",
       " <keras.layers.normalization.batch_normalization.BatchNormalization at 0x7f111ccef390>,\n",
       " <keras.layers.core.dropout.Dropout at 0x7f111ccbb290>,\n",
       " <keras.layers.core.dense.Dense at 0x7f111ccb4390>,\n",
       " <keras.layers.core.dense.Dense at 0x7f111cc5cc90>]"
      ]
     },
     "execution_count": 13,
     "metadata": {},
     "output_type": "execute_result"
    }
   ],
   "source": [
    "model.layers"
   ]
  },
  {
   "cell_type": "code",
   "execution_count": 14,
   "metadata": {
    "colab": {
     "base_uri": "https://localhost:8080/"
    },
    "id": "HeVI96VAt3_i",
    "outputId": "a4abb183-31dc-472c-d22c-d2eeb333e7d3"
   },
   "outputs": [
    {
     "name": "stdout",
     "output_type": "stream",
     "text": [
      "(784, 512)\n",
      "(512,)\n"
     ]
    }
   ],
   "source": [
    "hidden_1 = model.layers[3]\n",
    "h1_weights, h1_bias = hidden_1.get_weights()\n",
    "print(h1_weights.shape)\n",
    "print(h1_bias.shape)"
   ]
  },
  {
   "cell_type": "code",
   "execution_count": 15,
   "metadata": {
    "colab": {
     "base_uri": "https://localhost:8080/"
    },
    "id": "DINdUm-0LOu4",
    "outputId": "5984bfdf-a6e7-49d8-88c6-84836cdf0efe"
   },
   "outputs": [
    {
     "data": {
      "text/plain": [
       "array([-2.99057849e-02,  5.36408201e-02, -5.11843711e-02,  1.70745701e-02, -3.67517024e-03,  4.11383882e-02, -5.29324897e-02,  9.59029794e-03, -6.63554445e-02,  1.53563023e-02, -9.92191955e-03,\n",
       "       -3.20716426e-02, -3.20596397e-02, -2.95810290e-02, -4.63221334e-02, -4.11128178e-02, -4.66974229e-02, -4.04228345e-02,  5.52181527e-02, -2.14884542e-02,  5.98530620e-02,  2.49059498e-03,\n",
       "        6.33234978e-02, -3.64658833e-02, -4.62460518e-02, -5.46831377e-02, -6.14551827e-02, -5.89127876e-02,  1.35993585e-02,  5.79634756e-02,  6.75415844e-02, -5.14192358e-02, -2.77236104e-05,\n",
       "       -4.02375758e-02, -1.19802542e-02,  2.89253742e-02,  1.73840895e-02, -5.38968109e-02,  5.69569618e-02,  1.90314353e-02, -2.68348493e-02, -9.48537514e-03, -3.88613380e-02, -4.27103266e-02,\n",
       "        2.33610347e-02, -5.91202863e-02,  2.07698718e-02, -2.13735029e-02,  5.51434830e-02, -3.36252563e-02,  2.14858577e-02,  2.76273936e-02,  6.01678789e-02,  4.18712124e-02,  4.59828749e-02,\n",
       "       -5.63846976e-02, -4.46675718e-03,  2.29998231e-02,  2.82081962e-02, -2.27737166e-02, -6.08920753e-02, -2.41932534e-02,  5.46593443e-02,  6.08714968e-02,  4.02409509e-02, -1.07078068e-02,\n",
       "        6.10594004e-02, -5.98986670e-02, -3.98166850e-02,  2.42142379e-03, -2.25034542e-02, -4.58033755e-02,  5.88809252e-02,  4.01340127e-02,  1.92441940e-02, -2.01179758e-02,  3.98373604e-03,\n",
       "       -3.98381650e-02,  2.11675763e-02, -3.79730761e-03, -9.20987129e-03, -6.06114939e-02,  4.64679897e-02,  2.02229545e-02,  4.53157648e-02,  3.35416794e-02,  6.30573630e-02,  2.23037377e-02,\n",
       "       -2.88497098e-02, -1.34549774e-02,  1.95555612e-02, -3.63557339e-02, -5.97192645e-02, -6.14160374e-02,  3.78677174e-02, -2.10515223e-02, -4.13222499e-02, -1.73003860e-02,  5.40685877e-02,\n",
       "       -1.10676512e-02,  6.38272315e-02,  4.14445475e-02,  2.57892385e-02, -5.92574477e-02,  4.07339931e-02,  1.86236277e-02, -1.71090439e-02, -4.59361076e-03, -4.80244718e-02, -7.13117421e-03,\n",
       "        2.16950476e-02, -9.92730260e-03,  1.64357871e-02,  5.02984226e-02,  3.17149311e-02,  6.39765412e-02, -3.51993591e-02,  8.95152986e-03, -3.84041741e-02, -1.30669735e-02,  5.57134971e-02,\n",
       "        1.29538029e-02, -6.62635118e-02,  2.82137170e-02, -1.09023154e-02,  5.10480255e-02,  2.50814110e-02,  5.52695468e-02, -4.36468609e-02, -6.38589934e-02,  4.27539647e-03, -4.28028926e-02,\n",
       "        1.97805017e-02,  9.23397392e-03,  1.28077269e-02, -5.50605506e-02, -2.63293087e-03, -2.31182463e-02,  4.98427227e-02, -5.24496324e-02,  4.43390682e-02, -1.66617297e-02,  6.23654723e-02,\n",
       "       -1.28710233e-02,  5.34044281e-02,  5.68732694e-02, -1.76320225e-03, -1.43137388e-02, -6.91009685e-03,  6.56410754e-02, -4.53690402e-02, -5.17174229e-02,  2.15874091e-02, -5.15920371e-02,\n",
       "       -1.41850971e-02,  5.95233440e-02, -1.43276900e-02, -2.05187164e-02,  3.91624421e-02,  6.31685257e-02,  2.94605494e-02, -3.69779915e-02, -6.16522357e-02,  3.57376784e-02, -2.50827894e-02,\n",
       "        3.24208289e-03, -4.18143719e-03,  3.09486985e-02,  3.02138105e-02, -6.31749257e-02,  3.82658839e-03, -5.90359792e-03, -2.60519907e-02, -5.01910150e-02,  5.34754694e-02, -4.19799536e-02,\n",
       "        4.08096090e-02,  4.78251800e-02, -4.07720357e-02, -1.20390616e-02, -5.00954464e-02,  5.36024198e-02, -4.32840139e-02, -3.51755582e-02, -1.83268525e-02, -5.78326061e-02, -6.37115017e-02,\n",
       "       -7.67089054e-03, -5.94076961e-02,  3.83829251e-02, -9.99514386e-03, -4.25818488e-02, -4.26775292e-02,  1.21499225e-02, -3.48640084e-02, -1.65678486e-02, -5.06265834e-02,  7.28666782e-03,\n",
       "        1.87757760e-02,  5.19788116e-02, -3.06806713e-03,  4.16507870e-02,  6.78953081e-02, -4.17336300e-02,  5.59469238e-02,  2.30580494e-02, -4.85906005e-02,  2.68188715e-02, -4.72786650e-02,\n",
       "       -1.66834667e-02,  4.07273918e-02,  4.10639122e-02, -4.13268395e-02,  4.03980464e-02,  3.26953605e-02, -4.70951274e-02, -6.06748238e-02,  4.14011627e-03,  4.25144434e-02, -1.25517361e-02,\n",
       "        3.37945372e-02,  5.07581979e-03, -4.60136682e-03,  5.29297441e-03, -2.57077552e-02,  2.31573582e-02, -4.76612225e-02,  6.53665215e-02, -8.15376639e-03, -3.01979817e-02, -2.72832029e-02,\n",
       "        4.57486063e-02, -6.75757229e-02, -1.29835755e-02,  5.60877994e-02,  4.61257175e-02,  3.79398093e-02, -1.49192549e-02,  5.36979586e-02, -6.28231168e-02,  1.79784447e-02, -3.73278745e-02,\n",
       "        1.12797618e-02, -1.21766254e-02, -1.29570179e-02, -2.35848688e-02,  3.12124789e-02, -3.06261517e-02,  5.04181609e-02,  6.53295815e-02,  6.36707842e-02, -6.16694465e-02, -1.49968453e-02,\n",
       "        4.81125563e-02, -6.37974143e-02, -2.37586237e-02, -3.73235568e-02,  5.60721457e-02, -5.30450419e-02, -2.41437443e-02, -1.29910372e-02,  1.67957395e-02,  1.22608244e-03, -6.42710850e-02,\n",
       "        6.78880662e-02, -2.71266252e-02, -2.17389129e-02, -5.70698641e-02, -2.04466283e-03,  3.46150324e-02,  6.31793737e-02, -5.33482209e-02,  3.02748755e-02, -5.52063100e-02,  6.64757937e-02,\n",
       "        4.56360728e-02, -2.01151036e-02, -2.93192975e-02,  2.03905255e-03, -1.13653392e-03,  2.69280970e-02, -5.55079430e-03,  1.80124119e-02,  3.32975984e-02,  1.42521113e-02,  3.51879895e-02,\n",
       "       -6.52172714e-02,  5.57300448e-02, -1.22028440e-02, -1.50975883e-02, -5.30326813e-02, -8.93532485e-03,  3.76886874e-02, -1.48043036e-03, -2.28533372e-02,  2.76445672e-02,  1.99937448e-02,\n",
       "       -1.41604245e-02,  4.80671078e-02,  2.03941017e-03,  2.40767747e-02,  2.33415663e-02,  1.79927349e-02,  2.53029242e-02,  5.16532585e-02, -1.75717026e-02,  1.80112794e-02, -3.43951210e-02,\n",
       "        1.38838291e-02,  5.54231852e-02, -4.08508778e-02, -5.62368631e-02, -4.89472449e-02,  4.43328694e-02,  1.07935295e-02, -5.42733632e-02,  5.37004322e-03,  3.36186886e-02,  1.37351453e-03,\n",
       "       -5.25171645e-02, -1.55986138e-02,  2.98428386e-02, -1.34874247e-02,  4.21366841e-03,  3.94370854e-02, -6.13198392e-02, -6.74219802e-02,  1.29724145e-02, -7.68563896e-03,  2.06325948e-02,\n",
       "       -8.12351704e-04, -6.69497252e-03,  6.19147271e-02,  1.32001117e-02,  1.20256096e-02,  3.39091793e-02,  5.96594959e-02, -6.26886338e-02,  1.49897411e-02, -3.65585610e-02, -5.72915263e-02,\n",
       "        5.15116751e-02, -5.44834882e-03, -5.41045852e-02, -4.39463109e-02, -3.54668312e-02, -5.69726452e-02,  2.15498209e-02, -6.60132170e-02,  5.63627854e-02,  1.25394389e-02,  6.98233396e-03,\n",
       "        4.23780829e-03, -3.31332646e-02, -5.03198504e-02,  1.71173811e-02,  3.50944027e-02, -4.69485596e-02, -3.44035886e-02, -2.32087672e-02,  6.53195530e-02,  6.68407083e-02,  4.71712723e-02,\n",
       "        1.78292319e-02, -3.54394317e-02, -6.58893809e-02, -5.81794903e-02,  5.86941838e-02,  2.53975689e-02,  5.74673265e-02,  2.51684785e-02,  3.06910723e-02,  2.85346434e-02, -4.67900671e-02,\n",
       "        1.30489022e-02, -1.98446214e-04,  3.61774638e-02, -1.96212344e-02, -8.42280686e-04,  3.88481990e-02, -2.70359889e-02, -2.07973048e-02, -4.45330888e-03, -1.85058489e-02,  4.96901199e-02,\n",
       "       -6.03646040e-03, -6.78515807e-02, -5.92739135e-02,  1.70445070e-02, -4.91031781e-02,  8.19759816e-03, -4.28774208e-02,  5.58999404e-02,  6.55935556e-02, -4.72578853e-02, -3.25765796e-02,\n",
       "       -6.66682646e-02,  1.97698325e-02, -2.64073424e-02, -6.34342730e-02,  3.72232199e-02, -2.25643218e-02, -8.27883929e-03, -3.03547047e-02,  1.15327612e-02,  4.14580777e-02,  3.00892591e-02,\n",
       "        2.81718895e-02,  2.18845531e-02,  3.21973041e-02, -3.08981538e-03, -3.84309590e-02,  4.52639833e-02, -1.22058615e-02, -7.64595717e-03, -5.01498878e-02, -4.00386080e-02, -6.05229512e-02,\n",
       "       -3.40656750e-02, -3.18280160e-02, -6.18879944e-02, -5.99895939e-02, -1.00919455e-02, -4.22159880e-02, -5.49200475e-02, -1.26420446e-02,  5.83148152e-02,  2.21070424e-02, -2.89351046e-02,\n",
       "       -2.75325552e-02,  5.56514338e-02, -3.66124026e-02, -6.18089773e-02,  5.83466887e-03,  6.62549287e-02, -5.98161928e-02, -3.05299535e-02,  2.73092091e-02, -3.06964926e-02, -3.60126793e-02,\n",
       "       -1.37263797e-02,  3.83815616e-02,  2.21377537e-02,  4.71004471e-02,  4.75391671e-02, -4.06065695e-02,  7.77392089e-03,  1.62070841e-02,  1.99502036e-02,  2.10282132e-02, -4.17036526e-02,\n",
       "       -2.84119360e-02,  6.67788684e-02,  4.95326594e-02, -5.40953726e-02, -3.49336863e-03,  3.82572487e-02,  2.59478912e-02, -2.39224359e-02,  2.11752504e-02, -5.16226962e-02, -2.87640244e-02,\n",
       "        6.28005117e-02,  6.12616241e-02,  5.40717170e-02, -1.10198446e-02, -2.28125378e-02,  4.95533794e-02,  4.68540490e-02,  1.00336745e-02, -4.80934009e-02, -5.90532869e-02,  4.41966876e-02,\n",
       "        6.72218949e-02,  6.59340769e-02,  2.57822648e-02, -5.42132743e-02,  3.63835394e-02, -1.41667500e-02,  2.24654749e-02,  1.93818212e-02,  2.28432119e-02,  1.03509650e-02, -3.14449109e-02,\n",
       "       -1.41951405e-02, -4.40218076e-02,  4.77645770e-02,  8.91191512e-03,  4.53799069e-02, -1.53307654e-02,  2.36291066e-02, -2.52439417e-02, -4.12368849e-02,  5.68214804e-03, -5.26203066e-02,\n",
       "       -5.55182807e-02,  6.31639510e-02,  5.48813939e-02, -2.85653509e-02,  6.51439726e-02,  1.97000802e-04, -9.38478112e-03, -7.27855414e-03,  5.02564535e-02,  4.97368500e-02,  5.20420820e-02,\n",
       "        2.36681849e-03, -4.37193885e-02, -6.12052791e-02, -2.75865272e-02,  3.58114392e-03, -4.44020405e-02], dtype=float32)"
      ]
     },
     "execution_count": 15,
     "metadata": {},
     "output_type": "execute_result"
    }
   ],
   "source": [
    "h1_weights[0]"
   ]
  },
  {
   "cell_type": "code",
   "execution_count": 16,
   "metadata": {
    "id": "XXUfmUKRvNzI"
   },
   "outputs": [],
   "source": [
    "model.compile(loss='sparse_categorical_crossentropy',\n",
    "             optimizer='adam',\n",
    "             metrics=['accuracy'])"
   ]
  },
  {
   "cell_type": "code",
   "execution_count": 25,
   "metadata": {
    "colab": {
     "base_uri": "https://localhost:8080/"
    },
    "id": "BVhbCE27wzqv",
    "outputId": "8bebc473-a128-48da-9ab8-b763da9f039b"
   },
   "outputs": [
    {
     "name": "stdout",
     "output_type": "stream",
     "text": [
      "Epoch 1/30\n",
      "1719/1719 [==============================] - 29s 17ms/step - loss: 0.4940 - accuracy: 0.8204 - val_loss: 0.3477 - val_accuracy: 0.8676\n",
      "Epoch 2/30\n",
      "1719/1719 [==============================] - 31s 18ms/step - loss: 0.3961 - accuracy: 0.8529 - val_loss: 0.3349 - val_accuracy: 0.8722\n",
      "Epoch 3/30\n",
      "1719/1719 [==============================] - 31s 18ms/step - loss: 0.3735 - accuracy: 0.8600 - val_loss: 0.3144 - val_accuracy: 0.8814\n",
      "Epoch 4/30\n",
      "1719/1719 [==============================] - 29s 17ms/step - loss: 0.3550 - accuracy: 0.8672 - val_loss: 0.3195 - val_accuracy: 0.8790\n",
      "Epoch 5/30\n",
      "1719/1719 [==============================] - 29s 17ms/step - loss: 0.3453 - accuracy: 0.8701 - val_loss: 0.3275 - val_accuracy: 0.8768\n",
      "Epoch 6/30\n",
      "1719/1719 [==============================] - 29s 17ms/step - loss: 0.3354 - accuracy: 0.8743 - val_loss: 0.3043 - val_accuracy: 0.8888\n",
      "Epoch 7/30\n",
      "1719/1719 [==============================] - 31s 18ms/step - loss: 0.3255 - accuracy: 0.8784 - val_loss: 0.3072 - val_accuracy: 0.8870\n",
      "Epoch 8/30\n",
      "1719/1719 [==============================] - 31s 18ms/step - loss: 0.3208 - accuracy: 0.8805 - val_loss: 0.3010 - val_accuracy: 0.8850\n",
      "Epoch 9/30\n",
      "1719/1719 [==============================] - 31s 18ms/step - loss: 0.3156 - accuracy: 0.8811 - val_loss: 0.2808 - val_accuracy: 0.8944\n",
      "Epoch 10/30\n",
      "1719/1719 [==============================] - 31s 18ms/step - loss: 0.3092 - accuracy: 0.8834 - val_loss: 0.2855 - val_accuracy: 0.8936\n",
      "Epoch 11/30\n",
      "1719/1719 [==============================] - 29s 17ms/step - loss: 0.3020 - accuracy: 0.8861 - val_loss: 0.2908 - val_accuracy: 0.8934\n",
      "Epoch 12/30\n",
      "1719/1719 [==============================] - 30s 18ms/step - loss: 0.3010 - accuracy: 0.8849 - val_loss: 0.2776 - val_accuracy: 0.8952\n",
      "Epoch 13/30\n",
      "1719/1719 [==============================] - 30s 18ms/step - loss: 0.2933 - accuracy: 0.8880 - val_loss: 0.2846 - val_accuracy: 0.8952\n",
      "Epoch 14/30\n",
      "1719/1719 [==============================] - 31s 18ms/step - loss: 0.2888 - accuracy: 0.8912 - val_loss: 0.2746 - val_accuracy: 0.8980\n",
      "Epoch 15/30\n",
      "1719/1719 [==============================] - 29s 17ms/step - loss: 0.2880 - accuracy: 0.8925 - val_loss: 0.2850 - val_accuracy: 0.8936\n",
      "Epoch 16/30\n",
      "1719/1719 [==============================] - 31s 18ms/step - loss: 0.2810 - accuracy: 0.8930 - val_loss: 0.2729 - val_accuracy: 0.8960\n",
      "Epoch 17/30\n",
      "1719/1719 [==============================] - 28s 17ms/step - loss: 0.2795 - accuracy: 0.8938 - val_loss: 0.2812 - val_accuracy: 0.8942\n",
      "Epoch 18/30\n",
      "1719/1719 [==============================] - 30s 18ms/step - loss: 0.2768 - accuracy: 0.8938 - val_loss: 0.2760 - val_accuracy: 0.8992\n",
      "Epoch 19/30\n",
      "1719/1719 [==============================] - 28s 16ms/step - loss: 0.2703 - accuracy: 0.8980 - val_loss: 0.2795 - val_accuracy: 0.8946\n",
      "Epoch 20/30\n",
      "1719/1719 [==============================] - 28s 16ms/step - loss: 0.2701 - accuracy: 0.8963 - val_loss: 0.2737 - val_accuracy: 0.8988\n",
      "Epoch 21/30\n",
      "1719/1719 [==============================] - 28s 17ms/step - loss: 0.2670 - accuracy: 0.8973 - val_loss: 0.2771 - val_accuracy: 0.8948\n",
      "Epoch 22/30\n",
      "1719/1719 [==============================] - 28s 17ms/step - loss: 0.2665 - accuracy: 0.8975 - val_loss: 0.2692 - val_accuracy: 0.9002\n",
      "Epoch 23/30\n",
      "1719/1719 [==============================] - 29s 17ms/step - loss: 0.2612 - accuracy: 0.9002 - val_loss: 0.2762 - val_accuracy: 0.8988\n",
      "Epoch 24/30\n",
      "1719/1719 [==============================] - 29s 17ms/step - loss: 0.2629 - accuracy: 0.9009 - val_loss: 0.2682 - val_accuracy: 0.8974\n",
      "Epoch 25/30\n",
      "1719/1719 [==============================] - 29s 17ms/step - loss: 0.2594 - accuracy: 0.9004 - val_loss: 0.2762 - val_accuracy: 0.8980\n",
      "Epoch 26/30\n",
      "1719/1719 [==============================] - 31s 18ms/step - loss: 0.2571 - accuracy: 0.9020 - val_loss: 0.2767 - val_accuracy: 0.8972\n",
      "Epoch 27/30\n",
      "1719/1719 [==============================] - 29s 17ms/step - loss: 0.2539 - accuracy: 0.9035 - val_loss: 0.2698 - val_accuracy: 0.8988\n",
      "Epoch 28/30\n",
      "1719/1719 [==============================] - 29s 17ms/step - loss: 0.2550 - accuracy: 0.9016 - val_loss: 0.2759 - val_accuracy: 0.8998\n",
      "Epoch 29/30\n",
      "1719/1719 [==============================] - 31s 18ms/step - loss: 0.2534 - accuracy: 0.9041 - val_loss: 0.2701 - val_accuracy: 0.8982\n",
      "Epoch 30/30\n",
      "1719/1719 [==============================] - 31s 18ms/step - loss: 0.2485 - accuracy: 0.9044 - val_loss: 0.2667 - val_accuracy: 0.8964\n"
     ]
    }
   ],
   "source": [
    "# Creat checkpoint to save model at the end of each epoch:\n",
    "checkpoint_cb = keras.callbacks.ModelCheckpoint(\"my_keras_model.h5\", save_best_only=True)\n",
    "\n",
    "# Creat EarlyStopping checkpoint:\n",
    "early_stopping_cb = keras.callbacks.EarlyStopping(patience=10, restore_best_weights=True)\n",
    "\n",
    "\n",
    "history = model.fit(X_train, y_train,\n",
    "                    epochs=30,\n",
    "                    validation_split=5/60,\n",
    "                    callbacks=[checkpoint_cb, early_stopping_cb])\n",
    "                    # ,batch_size =60000 ) "
   ]
  },
  {
   "cell_type": "code",
   "execution_count": 39,
   "metadata": {
    "colab": {
     "base_uri": "https://localhost:8080/",
     "height": 320
    },
    "id": "avhh7Fr8xSFY",
    "outputId": "2e54c81d-de5f-4daa-c040-214ed1c3ff55"
   },
   "outputs": [
    {
     "data": {
      "image/png": "[encoded data removed]",
      "text/plain": [
       "<Figure size 720x360 with 1 Axes>"
      ]
     },
     "metadata": {
      "needs_background": "light"
     },
     "output_type": "display_data"
    }
   ],
   "source": [
    "import pandas as pd\n",
    "import matplotlib.pyplot as plt\n",
    "\n",
    "learning_data = pd.DataFrame(history.history)\n",
    "learning_data.plot(figsize=(10,5))\n",
    "plt.grid(True)\n",
    "plt.show()"
   ]
  },
  {
   "cell_type": "code",
   "execution_count": 26,
   "metadata": {
    "colab": {
     "base_uri": "https://localhost:8080/"
    },
    "id": "lCoTeO1bx7DZ",
    "outputId": "f403a1f5-919b-48df-fcb3-d7d2d947d815"
   },
   "outputs": [
    {
     "name": "stdout",
     "output_type": "stream",
     "text": [
      "313/313 [==============================] - 1s 4ms/step - loss: 0.2916 - accuracy: 0.8995\n"
     ]
    },
    {
     "data": {
      "text/plain": [
       "[0.2915893495082855, 0.8995000123977661]"
      ]
     },
     "execution_count": 26,
     "metadata": {},
     "output_type": "execute_result"
    }
   ],
   "source": [
    "model.evaluate(X_test/255, y_test)"
   ]
  },
  {
   "cell_type": "code",
   "execution_count": 20,
   "metadata": {
    "colab": {
     "base_uri": "https://localhost:8080/"
    },
    "id": "3rUno5Le051U",
    "outputId": "d9e642dd-d103-444b-dfaf-c1936e8d2101"
   },
   "outputs": [
    {
     "data": {
      "text/plain": [
       "(28, 28)"
      ]
     },
     "execution_count": 20,
     "metadata": {},
     "output_type": "execute_result"
    }
   ],
   "source": [
    "X_test[5].shape#.reshape(1,-1)"
   ]
  },
  {
   "cell_type": "code",
   "execution_count": 29,
   "metadata": {
    "colab": {
     "base_uri": "https://localhost:8080/"
    },
    "id": "Q3Jjfd4Gy2Iv",
    "outputId": "3d9c37e4-6132-46c4-d49c-dc17c7c28ca9"
   },
   "outputs": [
    {
     "data": {
      "text/plain": [
       "array([[0., 1., 0., 0., 0., 0., 0., 0., 0., 0.]], dtype=float32)"
      ]
     },
     "execution_count": 29,
     "metadata": {},
     "output_type": "execute_result"
    }
   ],
   "source": [
    "X_new = X_test[5].reshape(1,-1)\n",
    "y_pred = model.predict(X_new)\n",
    "y_pred"
   ]
  },
  {
   "cell_type": "code",
   "execution_count": 30,
   "metadata": {
    "colab": {
     "base_uri": "https://localhost:8080/"
    },
    "id": "DOxmOxeYz3im",
    "outputId": "63b1f83b-e42d-40fb-cdf7-7428f2af5466"
   },
   "outputs": [
    {
     "name": "stdout",
     "output_type": "stream",
     "text": [
      "[[  0   0   0   0   0   0   0   0   0   0 192 188 181 189 157 165 188 176 179 181   0   0   0   0   0   0   0   0]\n",
      " [  0   0   0   0   0   0   0   0   0  14 235 213 213 223 225 217 214 204 211 189   0   0   0   0   0   0   0   0]\n",
      " [  0   0   0   0   0   0   0   0   0  22 234 217 211 217 200 203 217 203 179 170   0   0   0   0   0   0   0   0]\n",
      " [  0   0   0   0   0   0   0   0   0 105 252 205 209 219 193 195 212 207 194 204  51   0   0   0   0   0   0   0]\n",
      " [  0   0   0   0   0   0   0   0   0 204 228 184 206 215 221 212 209 199 190 227 105   0   0   0   0   0   0   0]\n",
      " [  0   0   0   0   0   0   0   0   0 244 192 193 212 217 210 216 216 194 175 225 131   0   0   0   0   0   0   0]\n",
      " [  0   0   0   0   0   0   0   0  25 247 170 192 210 211 239 231 219 199 179 217 124   0   0   0   0   0   0   0]\n",
      " [  0   0   0   0   0   0   0   0  49 236 170 193 201 220 187 231 230 206 181 213 116   0   0   0   0   0   0   0]\n",
      " [  0   0   0   0   0   0   0   0  87 232 159 193 200 245   0 207 245 200 176 210 109   0   0   0   0   0   0   0]\n",
      " [  0   0   0   0   0   0   0   0 127 221 170 189 216 225   0 151 254 198 183 209 103   0   0   0   0   0   0   0]\n",
      " [  0   0   0   0   0   0   0   0 163 206 176 185 242 146   0  53 255 201 183 205 100   0   0   0   0   0   0   0]\n",
      " [  0   0   0   0   0   0   0   0 177 197 175 189 247  34   0   0 253 203 180 199  97   0   0   0   0   0   0   0]\n",
      " [  0   0   0   0   0   0   0   0 172 186 174 199 223   0   0   0 234 204 162 199 106   0   0   0   0   0   0   0]\n",
      " [  0   0   0   0   0   0   0   0 154 177 174 211 151   0   0   0 210 202 141 180 108   0   0   0   0   0   0   0]\n",
      " [  0   0   0   0   0   0   0   0 141 171 175 246  70   0   2   0 177 204 121 145 136   0   0   0   0   0   0   0]\n",
      " [  0   0   0   0   0   0   0   0 135 179 191 248  28   0   5   0 134 210 107 142 119   0   0   0   0   0   0   0]\n",
      " [  0   0   0   0   0   0   0   0  90 189 198 211   4   0   3   0  59 244 118 165 123   0   0   0   0   0   0   0]\n",
      " [  0   0   0   0   0   0   0   0   3 187 195 225  70   0   4   0  20 215 116 167 137   0   0   0   0   0   0   0]\n",
      " [  0   0   0   0   0   0   0   0   0 182 199 221 163   0   0   0   0 238 147 179 129   0   0   0   0   0   0   0]\n",
      " [  0   0   0   0   0   0   0   0   0 194 208 213 217   0   0   0   0 246 197 203 138   0   0   0   0   0   0   0]\n",
      " [  0   0   0   0   0   0   0   0   0 135 225 206 201   0   0   0   0 215 215 221 140   0   0   0   0   0   0   0]\n",
      " [  0   0   0   0   0   0   0   0   0  27 219 204 217  34   0   0   0 202 215 224 123   0   0   0   0   0   0   0]\n",
      " [  0   0   0   0   0   0   0   0   0   0 203 214 223  88   0   0   0 196 219 230 130   0   0   0   0   0   0   0]\n",
      " [  0   0   0   0   0   0   0   0   1   0 133 217 217 167   0   0   0 184 221 232 132   0   0   0   0   0   0   0]\n",
      " [  0   0   0   0   0   0   0   0   3   0  59 218 209 195   0   0   0 169 228 214 150   0   0   0   0   0   0   0]\n",
      " [  0   0   0   0   0   0   0   0   1   0   0 191 206 219  47   0   0 155 237 223 133   0   0   0   0   0   0   0]\n",
      " [  0   0   0   0   0   0   0   0   0   0   0 161 238 234 116   0   0 168 246 237 156   0   0   0   0   0   0   0]\n",
      " [  0   0   0   0   0   0   0   0   0   0   0  38 137 132  53   0   0  81 145 129  62   0   0   0   0   0   0   0]]\n"
     ]
    }
   ],
   "source": [
    "print(X_test[5])\n"
   ]
  },
  {
   "cell_type": "code",
   "execution_count": 31,
   "metadata": {
    "colab": {
     "base_uri": "https://localhost:8080/",
     "height": 265
    },
    "id": "xwc6JBfj1qCr",
    "outputId": "9cad5f8c-0985-419c-ab91-049ea204a73e"
   },
   "outputs": [
    {
     "data": {
      "image/png": "[encoded data removed]",
      "text/plain": [
       "<Figure size 432x288 with 1 Axes>"
      ]
     },
     "metadata": {
      "needs_background": "light"
     },
     "output_type": "display_data"
    }
   ],
   "source": [
    "plt.imshow(X_test[5], cmap=plt.cm.binary)\n",
    "plt.show()"
   ]
  },
  {
   "cell_type": "code",
   "execution_count": 38,
   "metadata": {
    "colab": {
     "base_uri": "https://localhost:8080/",
     "height": 69
    },
    "id": "PBfyZpGbzfWt",
    "outputId": "03640235-d7db-432c-cae5-e33c4c5c2263"
   },
   "outputs": [
    {
     "name": "stdout",
     "output_type": "stream",
     "text": [
      "actual values 1\n",
      "predicted values [1]\n"
     ]
    },
    {
     "data": {
      "application/vnd.google.colaboratory.intrinsic+json": {
       "type": "string"
      },
      "text/plain": [
       "'Trouser'"
      ]
     },
     "execution_count": 38,
     "metadata": {},
     "output_type": "execute_result"
    }
   ],
   "source": [
    "y_pred = np.argmax(model.predict(X_new), axis=-1)\n",
    "print('actual values', y_test[5])\n",
    "print('predicted values', y_pred)\n",
    "class_name[y_pred[0]]\n"
   ]
  },
  {
   "cell_type": "code",
   "execution_count": 34,
   "metadata": {
    "colab": {
     "base_uri": "https://localhost:8080/"
    },
    "id": "VyTihYxSzwJR",
    "outputId": "055d90ea-e937-4b31-8e53-ac86e1347df9"
   },
   "outputs": [
    {
     "data": {
      "text/plain": [
       "[0, 1, 0, 0, 0, 0, 0, 0, 0]"
      ]
     },
     "execution_count": 34,
     "metadata": {},
     "output_type": "execute_result"
    }
   ],
   "source": [
    "[0,1,0,0,0,0,0,0,0]"
   ]
  },
  {
   "cell_type": "code",
   "execution_count": null,
   "metadata": {
    "id": "_A7Xbxu7CrMu"
   },
   "outputs": [],
   "source": []
  }
 ],
 "metadata": {
  "colab": {
   "collapsed_sections": [],
   "name": " Day2_notebbok_Osama_Ayman.ipynb",
   "provenance": []
  },
  "kernelspec": {
   "display_name": "Python 3",
   "language": "python",
   "name": "python3"
  },
  "language_info": {
   "codemirror_mode": {
    "name": "ipython",
    "version": 3
   },
   "file_extension": ".py",
   "mimetype": "text/x-python",
   "name": "python",
   "nbconvert_exporter": "python",
   "pygments_lexer": "ipython3",
   "version": "3.8.7"
  }
 },
 "nbformat": 4,
 "nbformat_minor": 1
}
